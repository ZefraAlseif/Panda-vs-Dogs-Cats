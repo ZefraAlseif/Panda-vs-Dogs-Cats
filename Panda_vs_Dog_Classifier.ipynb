{
  "cells": [
    {
      "cell_type": "markdown",
      "metadata": {
        "id": "view-in-github",
        "colab_type": "text"
      },
      "source": [
        "<a href=\"https://colab.research.google.com/github/ZefraAlseif/Panda-vs-Dogs-Cats/blob/main/Panda_vs_Dog_Classifier.ipynb\" target=\"_parent\"><img src=\"https://colab.research.google.com/assets/colab-badge.svg\" alt=\"Open In Colab\"/></a>"
      ]
    },
    {
      "cell_type": "markdown",
      "metadata": {
        "id": "m5xO29Qh5WsI"
      },
      "source": [
        "# Importing Libraries"
      ]
    },
    {
      "cell_type": "code",
      "execution_count": null,
      "metadata": {
        "id": "gPcXdUhz5K0k"
      },
      "outputs": [],
      "source": [
        "import matplotlib.pyplot as plt\n",
        "import seaborn as sns\n",
        "import numpy as np\n",
        "import pandas as pd\n",
        "from io import StringIO\n",
        "from sklearn.preprocessing import LabelEncoder\n",
        "import sklearn \n",
        "from sklearn.model_selection import train_test_split\n",
        "from numpy import array\n",
        "from numpy import argmax\n",
        "from sklearn.preprocessing import LabelEncoder\n",
        "from sklearn.preprocessing import OneHotEncoder\n",
        "import copy\n",
        "from keras.engine.input_layer import Input\n",
        "import tensorflow as tf\n",
        "from tensorflow import keras\n",
        "from tensorflow.keras import layers\n",
        "from sklearn.neighbors import KNeighborsClassifier\n",
        "from sklearn.naive_bayes import GaussianNB\n",
        "from sklearn.neural_network import MLPClassifier\n",
        "from google.colab import files\n",
        "import os, shutil, pathlib\n",
        "from tensorflow.keras.preprocessing import image_dataset_from_directory\n",
        "from keras import regularizers\n",
        "from sklearn.utils import validation"
      ]
    },
    {
      "cell_type": "markdown",
      "metadata": {
        "id": "0wcD_dQz5yTf"
      },
      "source": [
        "# Uploading Kaggle JSon File"
      ]
    },
    {
      "cell_type": "code",
      "execution_count": null,
      "metadata": {
        "colab": {
          "base_uri": "https://localhost:8080/",
          "height": 90,
          "resources": {
            "http://localhost:8080/nbextensions/google.colab/files.js": {
              "data": "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",
              "headers": [
                [
                  "content-type",
                  "application/javascript"
                ]
              ],
              "ok": true,
              "status": 200,
              "status_text": ""
            }
          }
        },
        "id": "S0wU5Qx254Bq",
        "outputId": "415d6a74-74fd-45c1-8b7d-92de2dbd3e70"
      },
      "outputs": [
        {
          "output_type": "display_data",
          "data": {
            "text/plain": [
              "<IPython.core.display.HTML object>"
            ],
            "text/html": [
              "\n",
              "     <input type=\"file\" id=\"files-ef38e3e0-1517-40af-b0d9-f4601e62138e\" name=\"files[]\" multiple disabled\n",
              "        style=\"border:none\" />\n",
              "     <output id=\"result-ef38e3e0-1517-40af-b0d9-f4601e62138e\">\n",
              "      Upload widget is only available when the cell has been executed in the\n",
              "      current browser session. Please rerun this cell to enable.\n",
              "      </output>\n",
              "      <script src=\"/nbextensions/google.colab/files.js\"></script> "
            ]
          },
          "metadata": {}
        },
        {
          "output_type": "stream",
          "name": "stdout",
          "text": [
            "Saving kaggle.json to kaggle.json\n"
          ]
        },
        {
          "output_type": "execute_result",
          "data": {
            "text/plain": [
              "{'kaggle.json': b'{\"username\":\"zefraalseif\",\"key\":\"4d760edb603221467e663ad64da78007\"}'}"
            ]
          },
          "metadata": {},
          "execution_count": 2
        }
      ],
      "source": [
        "files.upload()"
      ]
    },
    {
      "cell_type": "markdown",
      "metadata": {
        "id": "WIDMvWvZ6EpH"
      },
      "source": [
        "# Removing/Creating Directory for Kaggle\n"
      ]
    },
    {
      "cell_type": "code",
      "execution_count": null,
      "metadata": {
        "id": "EkVXR7G_6M8o",
        "colab": {
          "base_uri": "https://localhost:8080/"
        },
        "outputId": "330878cc-7265-4fe6-a110-9e0213fd1fec"
      },
      "outputs": [
        {
          "output_type": "stream",
          "name": "stdout",
          "text": [
            "rm: cannot remove '/root/.kaggle/': No such file or directory\n"
          ]
        }
      ],
      "source": [
        "!rm -r ~/.kaggle/\n",
        "!mkdir ~/.kaggle\n",
        "!cp kaggle.json ~/.kaggle/\n",
        "!chmod 600 ~/.kaggle/kaggle.json"
      ]
    },
    {
      "cell_type": "markdown",
      "metadata": {
        "id": "1Oqqt_Vo6ayn"
      },
      "source": [
        "# Importing Dataset"
      ]
    },
    {
      "cell_type": "code",
      "execution_count": null,
      "metadata": {
        "colab": {
          "base_uri": "https://localhost:8080/"
        },
        "id": "Z9oJx1fj6e_7",
        "outputId": "81ec7316-17bc-4e37-9e4a-cd59dc956f27"
      },
      "outputs": [
        {
          "output_type": "stream",
          "name": "stdout",
          "text": [
            "Downloading animal-image-datasetdog-cat-and-panda.zip to /content\n",
            " 94% 354M/376M [00:02<00:00, 147MB/s]\n",
            "100% 376M/376M [00:02<00:00, 140MB/s]\n"
          ]
        }
      ],
      "source": [
        "!kaggle datasets download -d ashishsaxena2209/animal-image-datasetdog-cat-and-panda"
      ]
    },
    {
      "cell_type": "markdown",
      "metadata": {
        "id": "xpAQqFE465C8"
      },
      "source": [
        "# Unzipping Dataset"
      ]
    },
    {
      "cell_type": "code",
      "execution_count": null,
      "metadata": {
        "id": "0-NzlHtm68vb"
      },
      "outputs": [],
      "source": [
        "!unzip -qq animal-image-datasetdog-cat-and-panda.zip"
      ]
    },
    {
      "cell_type": "markdown",
      "metadata": {
        "id": "9gB37dZB73ml"
      },
      "source": [
        "# New Directory Structure"
      ]
    },
    {
      "cell_type": "code",
      "execution_count": null,
      "metadata": {
        "id": "iULy58JB8DEG"
      },
      "outputs": [],
      "source": [
        "original_dir = pathlib.Path('animals')\n",
        "new_base_dir = pathlib.Path('newanim')\n",
        "\n",
        "def make_subset(subset_name, start_index, end_index):\n",
        "  for category in ('cats','dogs','panda'):\n",
        "    dir = new_base_dir / subset_name / category\n",
        "    dirsrc = original_dir / category\n",
        "    os.makedirs(dir)\n",
        "    fnames = ['{}_{:05d}.jpg'.format(category,i) for i in range (start_index, end_index)]\n",
        "    for fname in fnames:\n",
        "      shutil.copyfile(src=dirsrc / fname , dst = dir / fname)\n",
        "\n",
        "make_subset('train', start_index=1, end_index=701)\n",
        "make_subset('validation', start_index=701, end_index=901)\n",
        "make_subset('test', start_index=901,end_index=1001) "
      ]
    },
    {
      "cell_type": "markdown",
      "metadata": {
        "id": "fLO7b3tcAMot"
      },
      "source": [
        "# Remove the Cat Directories"
      ]
    },
    {
      "cell_type": "code",
      "execution_count": null,
      "metadata": {
        "id": "DB6C-Uq6AQWj"
      },
      "outputs": [],
      "source": [
        "!rm -r ./newanim/train/cats/\n",
        "!rm -r ./newanim/validation/cats/\n",
        "!rm -r ./newanim/test/cats/"
      ]
    },
    {
      "cell_type": "markdown",
      "metadata": {
        "id": "wK_LIeZaAe9R"
      },
      "source": [
        "# Creating TensorFlow Dataset"
      ]
    },
    {
      "cell_type": "code",
      "execution_count": null,
      "metadata": {
        "id": "lhOn7JyHAigX",
        "colab": {
          "base_uri": "https://localhost:8080/"
        },
        "outputId": "2aa37f39-e52b-4434-c10d-0187c62d5a40"
      },
      "outputs": [
        {
          "output_type": "stream",
          "name": "stdout",
          "text": [
            "Found 1400 files belonging to 2 classes.\n",
            "Found 400 files belonging to 2 classes.\n",
            "Found 200 files belonging to 2 classes.\n"
          ]
        }
      ],
      "source": [
        "train_dataset = image_dataset_from_directory(\n",
        "    new_base_dir / 'train',\n",
        "    image_size = (180,180),\n",
        "    batch_size = 32)\n",
        "valdiation_dataset = image_dataset_from_directory(\n",
        "    new_base_dir / 'validation',\n",
        "    image_size = (180,180),\n",
        "    batch_size = 32)\n",
        "test_dataset = image_dataset_from_directory(\n",
        "    new_base_dir / 'test',\n",
        "    image_size = (180,180),\n",
        "    batch_size = 32)"
      ]
    },
    {
      "cell_type": "markdown",
      "metadata": {
        "id": "sk_o0ygBBk57"
      },
      "source": [
        "# Displaying shape of Dataset"
      ]
    },
    {
      "cell_type": "code",
      "execution_count": null,
      "metadata": {
        "id": "U4-684R_Bq_F",
        "colab": {
          "base_uri": "https://localhost:8080/"
        },
        "outputId": "83aeeaa6-bd8c-42ad-f66b-c0025cc79732"
      },
      "outputs": [
        {
          "output_type": "stream",
          "name": "stdout",
          "text": [
            "data batch shape: (32, 180, 180, 3)\n",
            "labels batch shape: (32,)\n"
          ]
        }
      ],
      "source": [
        "for data_batch, labels_batch in train_dataset:\n",
        "  print(\"data batch shape:\", data_batch.shape)\n",
        "  print(\"labels batch shape:\", labels_batch.shape)\n",
        "  break"
      ]
    },
    {
      "cell_type": "markdown",
      "metadata": {
        "id": "DtYypP2gCQvZ"
      },
      "source": [
        "# CNN Model Panda vs Dog (pvdm1)"
      ]
    },
    {
      "cell_type": "code",
      "execution_count": null,
      "metadata": {
        "id": "IDV8NY5mCHtC",
        "colab": {
          "base_uri": "https://localhost:8080/"
        },
        "outputId": "c5cf8347-359d-465c-ec07-932310c4c970"
      },
      "outputs": [
        {
          "output_type": "stream",
          "name": "stdout",
          "text": [
            "Model: \"model_5\"\n",
            "_________________________________________________________________\n",
            " Layer (type)                Output Shape              Param #   \n",
            "=================================================================\n",
            " input_6 (InputLayer)        [(None, 180, 180, 3)]     0         \n",
            "                                                                 \n",
            " rescaling_5 (Rescaling)     (None, 180, 180, 3)       0         \n",
            "                                                                 \n",
            " conv2d_25 (Conv2D)          (None, 178, 178, 32)      896       \n",
            "                                                                 \n",
            " max_pooling2d_20 (MaxPoolin  (None, 89, 89, 32)       0         \n",
            " g2D)                                                            \n",
            "                                                                 \n",
            " conv2d_26 (Conv2D)          (None, 87, 87, 64)        18496     \n",
            "                                                                 \n",
            " max_pooling2d_21 (MaxPoolin  (None, 43, 43, 64)       0         \n",
            " g2D)                                                            \n",
            "                                                                 \n",
            " conv2d_27 (Conv2D)          (None, 41, 41, 128)       73856     \n",
            "                                                                 \n",
            " max_pooling2d_22 (MaxPoolin  (None, 20, 20, 128)      0         \n",
            " g2D)                                                            \n",
            "                                                                 \n",
            " conv2d_28 (Conv2D)          (None, 18, 18, 256)       295168    \n",
            "                                                                 \n",
            " max_pooling2d_23 (MaxPoolin  (None, 9, 9, 256)        0         \n",
            " g2D)                                                            \n",
            "                                                                 \n",
            " conv2d_29 (Conv2D)          (None, 7, 7, 256)         590080    \n",
            "                                                                 \n",
            " flatten_5 (Flatten)         (None, 12544)             0         \n",
            "                                                                 \n",
            " dense_5 (Dense)             (None, 1)                 12545     \n",
            "                                                                 \n",
            "=================================================================\n",
            "Total params: 991,041\n",
            "Trainable params: 991,041\n",
            "Non-trainable params: 0\n",
            "_________________________________________________________________\n"
          ]
        }
      ],
      "source": [
        "inputs = keras.Input(shape=(180, 180, 3))\n",
        "x = layers.Rescaling(1./255)(inputs)\n",
        "x = layers.Conv2D(filters=32, kernel_size=3,activation=\"relu\")(x)\n",
        "x = layers.MaxPooling2D(pool_size=2)(x)\n",
        "x = layers.Conv2D(filters=64, kernel_size=3, activation=\"relu\")(x)\n",
        "x = layers.MaxPooling2D(pool_size=2)(x)\n",
        "x = layers.Conv2D(filters=128, kernel_size=3, activation=\"relu\")(x)\n",
        "x = layers.MaxPooling2D(pool_size=2)(x)\n",
        "x = layers.Conv2D(filters=256, kernel_size=3, activation=\"relu\")(x)\n",
        "x = layers.MaxPooling2D(pool_size=2)(x)\n",
        "x = layers.Conv2D(filters=256, kernel_size=3, activation=\"relu\")(x)\n",
        "x = layers.Flatten()(x)\n",
        "outputs = layers.Dense(1, activation=\"sigmoid\")(x)\n",
        "pvdm1 = keras.Model(inputs=inputs, outputs=outputs)\n",
        "\n",
        "pvdm1.summary()"
      ]
    },
    {
      "cell_type": "markdown",
      "metadata": {
        "id": "NDMb8L3YCnsJ"
      },
      "source": [
        "## Configure Model for Training"
      ]
    },
    {
      "cell_type": "code",
      "execution_count": null,
      "metadata": {
        "id": "UgDdTd4pCvcv"
      },
      "outputs": [],
      "source": [
        "pvdm1.compile(loss = \"binary_crossentropy\", optimizer=\"rmsprop\", metrics=[\"accuracy\"])"
      ]
    },
    {
      "cell_type": "markdown",
      "metadata": {
        "id": "uqWtd2rMDDGc"
      },
      "source": [
        "## Fitting the Model using a Dataset"
      ]
    },
    {
      "cell_type": "code",
      "execution_count": null,
      "metadata": {
        "id": "K8wotYLoDIJz",
        "colab": {
          "base_uri": "https://localhost:8080/"
        },
        "outputId": "02763498-4fb0-4730-9a64-03a3f97f9ec3"
      },
      "outputs": [
        {
          "output_type": "stream",
          "name": "stdout",
          "text": [
            "Epoch 1/8\n",
            "44/44 [==============================] - 5s 79ms/step - loss: 0.8055 - accuracy: 0.7214 - val_loss: 0.5475 - val_accuracy: 0.8050\n",
            "Epoch 2/8\n",
            "44/44 [==============================] - 4s 77ms/step - loss: 0.4204 - accuracy: 0.8214 - val_loss: 0.3257 - val_accuracy: 0.8650\n",
            "Epoch 3/8\n",
            "44/44 [==============================] - 4s 74ms/step - loss: 0.3917 - accuracy: 0.8336 - val_loss: 0.3341 - val_accuracy: 0.8750\n",
            "Epoch 4/8\n",
            "44/44 [==============================] - 4s 75ms/step - loss: 0.3833 - accuracy: 0.8314 - val_loss: 0.2748 - val_accuracy: 0.8900\n",
            "Epoch 5/8\n",
            "44/44 [==============================] - 4s 75ms/step - loss: 0.3326 - accuracy: 0.8564 - val_loss: 0.2734 - val_accuracy: 0.8925\n",
            "Epoch 6/8\n",
            "44/44 [==============================] - 4s 74ms/step - loss: 0.2811 - accuracy: 0.8871 - val_loss: 0.3050 - val_accuracy: 0.8900\n",
            "Epoch 7/8\n",
            "44/44 [==============================] - 4s 74ms/step - loss: 0.2677 - accuracy: 0.8993 - val_loss: 0.2422 - val_accuracy: 0.9000\n",
            "Epoch 8/8\n",
            "44/44 [==============================] - 4s 76ms/step - loss: 0.2735 - accuracy: 0.8964 - val_loss: 0.2382 - val_accuracy: 0.8950\n"
          ]
        }
      ],
      "source": [
        "callbacks = [\n",
        "    keras.callbacks.ModelCheckpoint(\n",
        "        filepath=\"pvdm1.h5\",\n",
        "        save_best_only = True,\n",
        "        monitor = \"val_loss\")\n",
        "]\n",
        "\n",
        "history1 = pvdm1.fit(\n",
        "    train_dataset,\n",
        "    epochs = 8,\n",
        "    validation_data = valdiation_dataset,\n",
        "    callbacks = callbacks\n",
        ")"
      ]
    },
    {
      "cell_type": "markdown",
      "metadata": {
        "id": "QAyGQ1ltEcj3"
      },
      "source": [
        "## Displaying Curves of Loss and Accuracy during Training"
      ]
    },
    {
      "cell_type": "code",
      "execution_count": null,
      "metadata": {
        "id": "_ZSFg8FbEkvf",
        "colab": {
          "base_uri": "https://localhost:8080/",
          "height": 614
        },
        "outputId": "553dd715-f7c3-46f1-bd88-354a8f1f7561"
      },
      "outputs": [
        {
          "output_type": "display_data",
          "data": {
            "text/plain": [
              "<Figure size 432x288 with 1 Axes>"
            ],
            "image/png": "[encoded data removed]"
          },
          "metadata": {
            "needs_background": "light"
          }
        },
        {
          "output_type": "display_data",
          "data": {
            "text/plain": [
              "<Figure size 432x288 with 1 Axes>"
            ],
            "image/png": "[encoded data removed]"
          },
          "metadata": {
            "needs_background": "light"
          }
        },
        {
          "output_type": "stream",
          "name": "stdout",
          "text": [
            "Final Training loss:  0.2734917998313904 \n",
            "Final Training Accuracy:  0.8964285850524902\n",
            "Final Validation loss:  0.23817463219165802 \n",
            "Final Validation Accuracy:  0.8949999809265137\n"
          ]
        }
      ],
      "source": [
        "accuracy = history1.history[\"accuracy\"]\n",
        "val_accuracy = history1.history[\"val_accuracy\"]\n",
        "loss = history1.history[\"loss\"]\n",
        "val_loss = history1.history[\"val_loss\"]\n",
        "epochs = range(1, len(accuracy) + 1)\n",
        "plt.plot(epochs, accuracy, \"bo\", label=\"Training accuracy\")\n",
        "plt.plot(epochs, val_accuracy, \"b\", label=\"Validation accuracy\")\n",
        "plt.title(\"Training and validation accuracy\")\n",
        "plt.legend()\n",
        "plt.figure()\n",
        "plt.plot(epochs, loss, \"bo\", label=\"Training loss\")\n",
        "plt.plot(epochs, val_loss, \"b\", label=\"Validation loss\")\n",
        "plt.title(\"Training and validation loss\")\n",
        "plt.legend()\n",
        "plt.show()\n",
        "# Final Values\n",
        "print(\"Final Training loss: \",history1.history['loss'][-1],\"\\nFinal Training Accuracy: \", history1.history['accuracy'][-1])\n",
        "print(\"Final Validation loss: \",history1.history['val_loss'][-1],\"\\nFinal Validation Accuracy: \", history1.history['val_accuracy'][-1])"
      ]
    },
    {
      "cell_type": "markdown",
      "source": [
        "## Evaluate Model"
      ],
      "metadata": {
        "id": "v-4MszCbGvUW"
      }
    },
    {
      "cell_type": "code",
      "source": [
        "pvdm1.evaluate(test_dataset)"
      ],
      "metadata": {
        "id": "O9ZswXmHGxqw"
      },
      "execution_count": null,
      "outputs": []
    },
    {
      "cell_type": "markdown",
      "metadata": {
        "id": "lmrK7Bu38eu2"
      },
      "source": [
        "# CNN Model 2 Panda vs Dog (w/L2) (pvdm2)"
      ]
    },
    {
      "cell_type": "code",
      "execution_count": null,
      "metadata": {
        "id": "jkGsMrd78eu2",
        "colab": {
          "base_uri": "https://localhost:8080/"
        },
        "outputId": "4dc7bc3c-f0ce-4a20-c0f6-c0a531580ae7"
      },
      "outputs": [
        {
          "output_type": "stream",
          "name": "stdout",
          "text": [
            "Model: \"model_10\"\n",
            "_________________________________________________________________\n",
            " Layer (type)                Output Shape              Param #   \n",
            "=================================================================\n",
            " input_11 (InputLayer)       [(None, 180, 180, 3)]     0         \n",
            "                                                                 \n",
            " rescaling_10 (Rescaling)    (None, 180, 180, 3)       0         \n",
            "                                                                 \n",
            " conv2d_50 (Conv2D)          (None, 178, 178, 32)      896       \n",
            "                                                                 \n",
            " max_pooling2d_40 (MaxPoolin  (None, 89, 89, 32)       0         \n",
            " g2D)                                                            \n",
            "                                                                 \n",
            " conv2d_51 (Conv2D)          (None, 87, 87, 64)        18496     \n",
            "                                                                 \n",
            " max_pooling2d_41 (MaxPoolin  (None, 43, 43, 64)       0         \n",
            " g2D)                                                            \n",
            "                                                                 \n",
            " conv2d_52 (Conv2D)          (None, 41, 41, 128)       73856     \n",
            "                                                                 \n",
            " max_pooling2d_42 (MaxPoolin  (None, 20, 20, 128)      0         \n",
            " g2D)                                                            \n",
            "                                                                 \n",
            " conv2d_53 (Conv2D)          (None, 18, 18, 256)       295168    \n",
            "                                                                 \n",
            " max_pooling2d_43 (MaxPoolin  (None, 9, 9, 256)        0         \n",
            " g2D)                                                            \n",
            "                                                                 \n",
            " conv2d_54 (Conv2D)          (None, 7, 7, 256)         590080    \n",
            "                                                                 \n",
            " flatten_10 (Flatten)        (None, 12544)             0         \n",
            "                                                                 \n",
            " dense_10 (Dense)            (None, 1)                 12545     \n",
            "                                                                 \n",
            "=================================================================\n",
            "Total params: 991,041\n",
            "Trainable params: 991,041\n",
            "Non-trainable params: 0\n",
            "_________________________________________________________________\n"
          ]
        }
      ],
      "source": [
        "inputs = keras.Input(shape=(180, 180, 3))\n",
        "x = layers.Rescaling(1./255)(inputs)\n",
        "x = layers.Conv2D(filters=32, kernel_size=3, kernel_regularizer=regularizers.l2(.0001),activation=\"relu\")(x)\n",
        "x = layers.MaxPooling2D(pool_size=2)(x)\n",
        "x = layers.Conv2D(filters=64, kernel_size=3, kernel_regularizer=regularizers.l2(.0001),activation=\"relu\")(x)\n",
        "x = layers.MaxPooling2D(pool_size=2)(x)\n",
        "x = layers.Conv2D(filters=128, kernel_size=3, kernel_regularizer=regularizers.l2(.0001),activation=\"relu\")(x)\n",
        "x = layers.MaxPooling2D(pool_size=2)(x)\n",
        "x = layers.Conv2D(filters=256, kernel_size=3, kernel_regularizer=regularizers.l2(.0001),activation=\"relu\")(x)\n",
        "x = layers.MaxPooling2D(pool_size=2)(x)\n",
        "x = layers.Conv2D(filters=256, kernel_size=3, kernel_regularizer=regularizers.l2(.0001),activation=\"relu\")(x)\n",
        "x = layers.Flatten()(x)\n",
        "outputs = layers.Dense(1, activation=\"sigmoid\")(x)\n",
        "pvdm2 = keras.Model(inputs=inputs, outputs=outputs)\n",
        "\n",
        "pvdm2.summary()"
      ]
    },
    {
      "cell_type": "markdown",
      "metadata": {
        "id": "kgZks_pz8eu3"
      },
      "source": [
        "## Configure Model for Training"
      ]
    },
    {
      "cell_type": "code",
      "execution_count": null,
      "metadata": {
        "id": "uFOTtCq88eu3"
      },
      "outputs": [],
      "source": [
        "pvdm2.compile(loss = \"binary_crossentropy\", optimizer=\"rmsprop\", metrics=[\"accuracy\"])"
      ]
    },
    {
      "cell_type": "markdown",
      "metadata": {
        "id": "SATmMmBp8eu3"
      },
      "source": [
        "## Fitting the Model using a Dataset"
      ]
    },
    {
      "cell_type": "code",
      "execution_count": null,
      "metadata": {
        "id": "6EgXAHUz8eu3",
        "colab": {
          "base_uri": "https://localhost:8080/",
          "height": 487
        },
        "outputId": "aed1f028-1d23-48bc-a024-ed31a9b16435"
      },
      "outputs": [
        {
          "output_type": "stream",
          "name": "stdout",
          "text": [
            "Epoch 1/10\n",
            "44/44 [==============================] - 5s 77ms/step - loss: 0.7925 - accuracy: 0.6957 - val_loss: 0.6620 - val_accuracy: 0.7025\n"
          ]
        },
        {
          "output_type": "error",
          "ename": "KeyboardInterrupt",
          "evalue": "ignored",
          "traceback": [
            "\u001b[0;31m---------------------------------------------------------------------------\u001b[0m",
            "\u001b[0;31mKeyboardInterrupt\u001b[0m                         Traceback (most recent call last)",
            "\u001b[0;32m<ipython-input-63-655f08aad69f>\u001b[0m in \u001b[0;36m<module>\u001b[0;34m()\u001b[0m\n\u001b[1;32m     10\u001b[0m     \u001b[0mepochs\u001b[0m \u001b[0;34m=\u001b[0m \u001b[0;36m10\u001b[0m\u001b[0;34m,\u001b[0m\u001b[0;34m\u001b[0m\u001b[0;34m\u001b[0m\u001b[0m\n\u001b[1;32m     11\u001b[0m     \u001b[0mvalidation_data\u001b[0m \u001b[0;34m=\u001b[0m \u001b[0mvaldiation_dataset\u001b[0m\u001b[0;34m,\u001b[0m\u001b[0;34m\u001b[0m\u001b[0;34m\u001b[0m\u001b[0m\n\u001b[0;32m---> 12\u001b[0;31m     \u001b[0mcallbacks\u001b[0m \u001b[0;34m=\u001b[0m \u001b[0mcallbacks\u001b[0m\u001b[0;34m\u001b[0m\u001b[0;34m\u001b[0m\u001b[0m\n\u001b[0m\u001b[1;32m     13\u001b[0m \u001b[0;34m\u001b[0m\u001b[0m\n\u001b[1;32m     14\u001b[0m )\n",
            "\u001b[0;32m/usr/local/lib/python3.7/dist-packages/keras/utils/traceback_utils.py\u001b[0m in \u001b[0;36merror_handler\u001b[0;34m(*args, **kwargs)\u001b[0m\n\u001b[1;32m     62\u001b[0m     \u001b[0mfiltered_tb\u001b[0m \u001b[0;34m=\u001b[0m \u001b[0;32mNone\u001b[0m\u001b[0;34m\u001b[0m\u001b[0;34m\u001b[0m\u001b[0m\n\u001b[1;32m     63\u001b[0m     \u001b[0;32mtry\u001b[0m\u001b[0;34m:\u001b[0m\u001b[0;34m\u001b[0m\u001b[0;34m\u001b[0m\u001b[0m\n\u001b[0;32m---> 64\u001b[0;31m       \u001b[0;32mreturn\u001b[0m \u001b[0mfn\u001b[0m\u001b[0;34m(\u001b[0m\u001b[0;34m*\u001b[0m\u001b[0margs\u001b[0m\u001b[0;34m,\u001b[0m \u001b[0;34m**\u001b[0m\u001b[0mkwargs\u001b[0m\u001b[0;34m)\u001b[0m\u001b[0;34m\u001b[0m\u001b[0;34m\u001b[0m\u001b[0m\n\u001b[0m\u001b[1;32m     65\u001b[0m     \u001b[0;32mexcept\u001b[0m \u001b[0mException\u001b[0m \u001b[0;32mas\u001b[0m \u001b[0me\u001b[0m\u001b[0;34m:\u001b[0m  \u001b[0;31m# pylint: disable=broad-except\u001b[0m\u001b[0;34m\u001b[0m\u001b[0;34m\u001b[0m\u001b[0m\n\u001b[1;32m     66\u001b[0m       \u001b[0mfiltered_tb\u001b[0m \u001b[0;34m=\u001b[0m \u001b[0m_process_traceback_frames\u001b[0m\u001b[0;34m(\u001b[0m\u001b[0me\u001b[0m\u001b[0;34m.\u001b[0m\u001b[0m__traceback__\u001b[0m\u001b[0;34m)\u001b[0m\u001b[0;34m\u001b[0m\u001b[0;34m\u001b[0m\u001b[0m\n",
            "\u001b[0;32m/usr/local/lib/python3.7/dist-packages/keras/engine/training.py\u001b[0m in \u001b[0;36mfit\u001b[0;34m(self, x, y, batch_size, epochs, verbose, callbacks, validation_split, validation_data, shuffle, class_weight, sample_weight, initial_epoch, steps_per_epoch, validation_steps, validation_batch_size, validation_freq, max_queue_size, workers, use_multiprocessing)\u001b[0m\n\u001b[1;32m   1371\u001b[0m       \u001b[0mlogs\u001b[0m \u001b[0;34m=\u001b[0m \u001b[0;32mNone\u001b[0m\u001b[0;34m\u001b[0m\u001b[0;34m\u001b[0m\u001b[0m\n\u001b[1;32m   1372\u001b[0m       \u001b[0;32mfor\u001b[0m \u001b[0mepoch\u001b[0m\u001b[0;34m,\u001b[0m \u001b[0miterator\u001b[0m \u001b[0;32min\u001b[0m \u001b[0mdata_handler\u001b[0m\u001b[0;34m.\u001b[0m\u001b[0menumerate_epochs\u001b[0m\u001b[0;34m(\u001b[0m\u001b[0;34m)\u001b[0m\u001b[0;34m:\u001b[0m\u001b[0;34m\u001b[0m\u001b[0;34m\u001b[0m\u001b[0m\n\u001b[0;32m-> 1373\u001b[0;31m         \u001b[0mself\u001b[0m\u001b[0;34m.\u001b[0m\u001b[0mreset_metrics\u001b[0m\u001b[0;34m(\u001b[0m\u001b[0;34m)\u001b[0m\u001b[0;34m\u001b[0m\u001b[0;34m\u001b[0m\u001b[0m\n\u001b[0m\u001b[1;32m   1374\u001b[0m         \u001b[0mcallbacks\u001b[0m\u001b[0;34m.\u001b[0m\u001b[0mon_epoch_begin\u001b[0m\u001b[0;34m(\u001b[0m\u001b[0mepoch\u001b[0m\u001b[0;34m)\u001b[0m\u001b[0;34m\u001b[0m\u001b[0;34m\u001b[0m\u001b[0m\n\u001b[1;32m   1375\u001b[0m         \u001b[0;32mwith\u001b[0m \u001b[0mdata_handler\u001b[0m\u001b[0;34m.\u001b[0m\u001b[0mcatch_stop_iteration\u001b[0m\u001b[0;34m(\u001b[0m\u001b[0;34m)\u001b[0m\u001b[0;34m:\u001b[0m\u001b[0;34m\u001b[0m\u001b[0;34m\u001b[0m\u001b[0m\n",
            "\u001b[0;31mKeyboardInterrupt\u001b[0m: "
          ]
        }
      ],
      "source": [
        "callbacks = [\n",
        "    keras.callbacks.ModelCheckpoint(\n",
        "        filepath=\"pvdm2.h5\",\n",
        "        save_best_only = True,\n",
        "        monitor = \"val_loss\")\n",
        "]\n",
        "\n",
        "history2 = pvdm2.fit(\n",
        "    train_dataset,\n",
        "    epochs = 10,\n",
        "    validation_data = valdiation_dataset,\n",
        "    callbacks = callbacks\n",
        "\n",
        ")"
      ]
    },
    {
      "cell_type": "markdown",
      "metadata": {
        "id": "x78JgR2m8eu3"
      },
      "source": [
        "## Displaying Curves of Loss and Accuracy during Training"
      ]
    },
    {
      "cell_type": "code",
      "execution_count": null,
      "metadata": {
        "id": "1Oy5xQEp8eu5"
      },
      "outputs": [],
      "source": [
        "accuracy = history2.history[\"accuracy\"]\n",
        "val_accuracy = history2.history[\"val_accuracy\"]\n",
        "loss = history2.history[\"loss\"]\n",
        "val_loss = history2.history[\"val_loss\"]\n",
        "epochs = range(1, len(accuracy) + 1)\n",
        "plt.plot(epochs, accuracy, \"bo\", label=\"Training accuracy\")\n",
        "plt.plot(epochs, val_accuracy, \"b\", label=\"Validation accuracy\")\n",
        "plt.title(\"Training and validation accuracy\")\n",
        "plt.legend()\n",
        "plt.figure()\n",
        "plt.plot(epochs, loss, \"bo\", label=\"Training loss\")\n",
        "plt.plot(epochs, val_loss, \"b\", label=\"Validation loss\")\n",
        "plt.title(\"Training and validation loss\")\n",
        "plt.legend()\n",
        "plt.show()\n",
        "# Final Values\n",
        "print(\"Final Training loss: \",history2.history['loss'][-1],\"\\nFinal Training Accuracy: \", history2.history['accuracy'][-1])\n",
        "print(\"Final Validation loss: \",history2.history['val_loss'][-1],\"\\nFinal Validation Accuracy: \", history2.history['val_accuracy'][-1])"
      ]
    },
    {
      "cell_type": "markdown",
      "source": [
        "## Evaluate Model"
      ],
      "metadata": {
        "id": "XgZHcwFPGnN9"
      }
    },
    {
      "cell_type": "code",
      "source": [
        "pvdm2.evaluate(test_dataset)"
      ],
      "metadata": {
        "id": "7-oTBRSmGpvm"
      },
      "execution_count": null,
      "outputs": []
    },
    {
      "cell_type": "markdown",
      "metadata": {
        "id": "D85mdmbiMd6B"
      },
      "source": [
        "# CNN Model 3 Panda vs Dog (w/Data Augmentation) (pvdm3)"
      ]
    },
    {
      "cell_type": "code",
      "execution_count": null,
      "metadata": {
        "id": "T0rEVP4TMd6D",
        "colab": {
          "base_uri": "https://localhost:8080/"
        },
        "outputId": "e1058f92-5d31-48f0-9799-cea19fa190a7"
      },
      "outputs": [
        {
          "output_type": "stream",
          "name": "stdout",
          "text": [
            "Model: \"model\"\n",
            "_________________________________________________________________\n",
            " Layer (type)                Output Shape              Param #   \n",
            "=================================================================\n",
            " input_1 (InputLayer)        [(None, 180, 180, 3)]     0         \n",
            "                                                                 \n",
            " sequential (Sequential)     (None, 180, 180, 3)       0         \n",
            "                                                                 \n",
            " rescaling (Rescaling)       (None, 180, 180, 3)       0         \n",
            "                                                                 \n",
            " conv2d (Conv2D)             (None, 178, 178, 32)      896       \n",
            "                                                                 \n",
            " max_pooling2d (MaxPooling2D  (None, 89, 89, 32)       0         \n",
            " )                                                               \n",
            "                                                                 \n",
            " dropout (Dropout)           (None, 89, 89, 32)        0         \n",
            "                                                                 \n",
            " conv2d_1 (Conv2D)           (None, 87, 87, 64)        18496     \n",
            "                                                                 \n",
            " max_pooling2d_1 (MaxPooling  (None, 43, 43, 64)       0         \n",
            " 2D)                                                             \n",
            "                                                                 \n",
            " dropout_1 (Dropout)         (None, 43, 43, 64)        0         \n",
            "                                                                 \n",
            " conv2d_2 (Conv2D)           (None, 41, 41, 128)       73856     \n",
            "                                                                 \n",
            " max_pooling2d_2 (MaxPooling  (None, 20, 20, 128)      0         \n",
            " 2D)                                                             \n",
            "                                                                 \n",
            " dropout_2 (Dropout)         (None, 20, 20, 128)       0         \n",
            "                                                                 \n",
            " conv2d_3 (Conv2D)           (None, 18, 18, 256)       295168    \n",
            "                                                                 \n",
            " max_pooling2d_3 (MaxPooling  (None, 9, 9, 256)        0         \n",
            " 2D)                                                             \n",
            "                                                                 \n",
            " dropout_3 (Dropout)         (None, 9, 9, 256)         0         \n",
            "                                                                 \n",
            " conv2d_4 (Conv2D)           (None, 7, 7, 256)         590080    \n",
            "                                                                 \n",
            " flatten (Flatten)           (None, 12544)             0         \n",
            "                                                                 \n",
            " dropout_4 (Dropout)         (None, 12544)             0         \n",
            "                                                                 \n",
            " dense (Dense)               (None, 1)                 12545     \n",
            "                                                                 \n",
            "=================================================================\n",
            "Total params: 991,041\n",
            "Trainable params: 991,041\n",
            "Non-trainable params: 0\n",
            "_________________________________________________________________\n"
          ]
        }
      ],
      "source": [
        "data_augmentation = keras.Sequential(\n",
        "    [\n",
        "      layers.RandomFlip(\"horizontal\"),\n",
        "      layers.RandomRotation(.1),\n",
        "      layers.RandomZoom(.2)\n",
        "    ]\n",
        ")\n",
        "\n",
        "inputs = keras.Input(shape=(180, 180, 3))\n",
        "x = data_augmentation(inputs)\n",
        "x = layers.Rescaling(1./255)(x)\n",
        "x = layers.Conv2D(filters=32, kernel_size=3, kernel_regularizer=regularizers.l2(.0001),activation=\"relu\")(x)\n",
        "x = layers.MaxPooling2D(pool_size=2)(x)\n",
        "x = layers.Dropout(.15)(x)\n",
        "x = layers.Conv2D(filters=64, kernel_size=3, kernel_regularizer=regularizers.l2(.0001),activation=\"relu\")(x)\n",
        "x = layers.MaxPooling2D(pool_size=2)(x)\n",
        "x = layers.Dropout(.25)(x)\n",
        "x = layers.Conv2D(filters=128, kernel_size=3, kernel_regularizer=regularizers.l2(.0001),activation=\"relu\")(x)\n",
        "x = layers.MaxPooling2D(pool_size=2)(x)\n",
        "x = layers.Dropout(.5)(x)\n",
        "x = layers.Conv2D(filters=256, kernel_size=3, kernel_regularizer=regularizers.l2(.0001),activation=\"relu\")(x)\n",
        "x = layers.MaxPooling2D(pool_size=2)(x)\n",
        "x = layers.Dropout(.25)(x)\n",
        "x = layers.Conv2D(filters=256, kernel_size=3, kernel_regularizer=regularizers.l2(.0001),activation=\"relu\")(x)\n",
        "x = layers.Flatten()(x)\n",
        "x = layers.Dropout(.25)(x)\n",
        "outputs = layers.Dense(1, activation=\"sigmoid\")(x)\n",
        "pvdm3 = keras.Model(inputs=inputs, outputs=outputs)\n",
        "\n",
        "pvdm3.summary()"
      ]
    },
    {
      "cell_type": "markdown",
      "metadata": {
        "id": "tZDTJxIfMd6F"
      },
      "source": [
        "## Configure Model for Training"
      ]
    },
    {
      "cell_type": "code",
      "execution_count": null,
      "metadata": {
        "id": "eOKi0zZOMd6F"
      },
      "outputs": [],
      "source": [
        "pvdm3.compile(loss = \"binary_crossentropy\", optimizer=\"rmsprop\", metrics=[\"accuracy\"])"
      ]
    },
    {
      "cell_type": "markdown",
      "metadata": {
        "id": "g5O2hZmXMd6G"
      },
      "source": [
        "## Fitting the Model using a Dataset"
      ]
    },
    {
      "cell_type": "code",
      "execution_count": null,
      "metadata": {
        "id": "28ak7Gk3Md6H",
        "colab": {
          "base_uri": "https://localhost:8080/"
        },
        "outputId": "d2a36b0a-9d31-4b63-ddc5-906a69ad1e10"
      },
      "outputs": [
        {
          "output_type": "stream",
          "name": "stdout",
          "text": [
            "Epoch 1/150\n",
            "44/44 [==============================] - 17s 104ms/step - loss: 0.7320 - accuracy: 0.6350 - val_loss: 0.5768 - val_accuracy: 0.8075\n",
            "Epoch 2/150\n",
            "44/44 [==============================] - 4s 84ms/step - loss: 0.5395 - accuracy: 0.8071 - val_loss: 0.4522 - val_accuracy: 0.8550\n",
            "Epoch 3/150\n",
            "44/44 [==============================] - 4s 86ms/step - loss: 0.4643 - accuracy: 0.8114 - val_loss: 0.3899 - val_accuracy: 0.8575\n",
            "Epoch 4/150\n",
            "44/44 [==============================] - 4s 84ms/step - loss: 0.4278 - accuracy: 0.8236 - val_loss: 0.4050 - val_accuracy: 0.8425\n",
            "Epoch 5/150\n",
            "44/44 [==============================] - 4s 85ms/step - loss: 0.4016 - accuracy: 0.8400 - val_loss: 0.3658 - val_accuracy: 0.8675\n",
            "Epoch 6/150\n",
            "44/44 [==============================] - 4s 84ms/step - loss: 0.3736 - accuracy: 0.8486 - val_loss: 0.3546 - val_accuracy: 0.8675\n",
            "Epoch 7/150\n",
            "44/44 [==============================] - 5s 95ms/step - loss: 0.3524 - accuracy: 0.8643 - val_loss: 0.3089 - val_accuracy: 0.8925\n",
            "Epoch 8/150\n",
            "44/44 [==============================] - 4s 85ms/step - loss: 0.3421 - accuracy: 0.8664 - val_loss: 0.2918 - val_accuracy: 0.8975\n",
            "Epoch 9/150\n",
            "44/44 [==============================] - 4s 83ms/step - loss: 0.3156 - accuracy: 0.8736 - val_loss: 0.2540 - val_accuracy: 0.9050\n",
            "Epoch 10/150\n",
            "44/44 [==============================] - 4s 84ms/step - loss: 0.3302 - accuracy: 0.8700 - val_loss: 0.3210 - val_accuracy: 0.8825\n",
            "Epoch 11/150\n",
            "44/44 [==============================] - 4s 83ms/step - loss: 0.3083 - accuracy: 0.8850 - val_loss: 0.3821 - val_accuracy: 0.8150\n",
            "Epoch 12/150\n",
            "44/44 [==============================] - 4s 83ms/step - loss: 0.3047 - accuracy: 0.8764 - val_loss: 0.6401 - val_accuracy: 0.7675\n",
            "Epoch 13/150\n",
            "44/44 [==============================] - 4s 85ms/step - loss: 0.3282 - accuracy: 0.8793 - val_loss: 0.2480 - val_accuracy: 0.9175\n",
            "Epoch 14/150\n",
            "44/44 [==============================] - 4s 84ms/step - loss: 0.3076 - accuracy: 0.8936 - val_loss: 0.2930 - val_accuracy: 0.9050\n",
            "Epoch 15/150\n",
            "44/44 [==============================] - 4s 83ms/step - loss: 0.2897 - accuracy: 0.8864 - val_loss: 0.2784 - val_accuracy: 0.9175\n",
            "Epoch 16/150\n",
            "44/44 [==============================] - 4s 86ms/step - loss: 0.2867 - accuracy: 0.8950 - val_loss: 0.2609 - val_accuracy: 0.9175\n",
            "Epoch 17/150\n",
            "44/44 [==============================] - 4s 85ms/step - loss: 0.2909 - accuracy: 0.8914 - val_loss: 0.3011 - val_accuracy: 0.8850\n",
            "Epoch 18/150\n",
            "44/44 [==============================] - 4s 85ms/step - loss: 0.2835 - accuracy: 0.8893 - val_loss: 0.2089 - val_accuracy: 0.9275\n",
            "Epoch 19/150\n",
            "44/44 [==============================] - 4s 86ms/step - loss: 0.2691 - accuracy: 0.8979 - val_loss: 0.2128 - val_accuracy: 0.9200\n",
            "Epoch 20/150\n",
            "44/44 [==============================] - 4s 85ms/step - loss: 0.2441 - accuracy: 0.9107 - val_loss: 0.3355 - val_accuracy: 0.8850\n",
            "Epoch 21/150\n",
            "44/44 [==============================] - 4s 86ms/step - loss: 0.2760 - accuracy: 0.8986 - val_loss: 0.2419 - val_accuracy: 0.9225\n",
            "Epoch 22/150\n",
            "44/44 [==============================] - 4s 86ms/step - loss: 0.2492 - accuracy: 0.9057 - val_loss: 0.1933 - val_accuracy: 0.9325\n",
            "Epoch 23/150\n",
            "44/44 [==============================] - 4s 84ms/step - loss: 0.2709 - accuracy: 0.8964 - val_loss: 0.2367 - val_accuracy: 0.9250\n",
            "Epoch 24/150\n",
            "44/44 [==============================] - 4s 85ms/step - loss: 0.2359 - accuracy: 0.9207 - val_loss: 0.1773 - val_accuracy: 0.9450\n",
            "Epoch 25/150\n",
            "44/44 [==============================] - 4s 84ms/step - loss: 0.2366 - accuracy: 0.9150 - val_loss: 0.2648 - val_accuracy: 0.9025\n",
            "Epoch 26/150\n",
            "44/44 [==============================] - 4s 84ms/step - loss: 0.2424 - accuracy: 0.9186 - val_loss: 0.2205 - val_accuracy: 0.9350\n",
            "Epoch 27/150\n",
            "44/44 [==============================] - 4s 84ms/step - loss: 0.2275 - accuracy: 0.9079 - val_loss: 0.2338 - val_accuracy: 0.9325\n",
            "Epoch 28/150\n",
            "44/44 [==============================] - 4s 90ms/step - loss: 0.2433 - accuracy: 0.9171 - val_loss: 0.2440 - val_accuracy: 0.9125\n",
            "Epoch 29/150\n",
            "44/44 [==============================] - 4s 85ms/step - loss: 0.2351 - accuracy: 0.9193 - val_loss: 0.1590 - val_accuracy: 0.9425\n",
            "Epoch 30/150\n",
            "44/44 [==============================] - 4s 85ms/step - loss: 0.2064 - accuracy: 0.9350 - val_loss: 0.2888 - val_accuracy: 0.8950\n",
            "Epoch 31/150\n",
            "44/44 [==============================] - 4s 83ms/step - loss: 0.2313 - accuracy: 0.9221 - val_loss: 0.2037 - val_accuracy: 0.9300\n",
            "Epoch 32/150\n",
            "44/44 [==============================] - 4s 85ms/step - loss: 0.2098 - accuracy: 0.9243 - val_loss: 0.2136 - val_accuracy: 0.9250\n",
            "Epoch 33/150\n",
            "44/44 [==============================] - 4s 83ms/step - loss: 0.2365 - accuracy: 0.9150 - val_loss: 0.1805 - val_accuracy: 0.9425\n",
            "Epoch 34/150\n",
            "44/44 [==============================] - 4s 84ms/step - loss: 0.2038 - accuracy: 0.9243 - val_loss: 0.1784 - val_accuracy: 0.9425\n",
            "Epoch 35/150\n",
            "44/44 [==============================] - 4s 84ms/step - loss: 0.2179 - accuracy: 0.9179 - val_loss: 0.2176 - val_accuracy: 0.9300\n",
            "Epoch 36/150\n",
            "44/44 [==============================] - 4s 85ms/step - loss: 0.1889 - accuracy: 0.9300 - val_loss: 0.2277 - val_accuracy: 0.9325\n",
            "Epoch 37/150\n",
            "44/44 [==============================] - 4s 84ms/step - loss: 0.2303 - accuracy: 0.9236 - val_loss: 0.2175 - val_accuracy: 0.9425\n",
            "Epoch 38/150\n",
            "44/44 [==============================] - 4s 86ms/step - loss: 0.2106 - accuracy: 0.9286 - val_loss: 0.1994 - val_accuracy: 0.9350\n",
            "Epoch 39/150\n",
            "44/44 [==============================] - 4s 86ms/step - loss: 0.1853 - accuracy: 0.9321 - val_loss: 0.3332 - val_accuracy: 0.9050\n",
            "Epoch 40/150\n",
            "44/44 [==============================] - 4s 85ms/step - loss: 0.2017 - accuracy: 0.9300 - val_loss: 0.1976 - val_accuracy: 0.9425\n",
            "Epoch 41/150\n",
            "44/44 [==============================] - 4s 85ms/step - loss: 0.1874 - accuracy: 0.9329 - val_loss: 0.2491 - val_accuracy: 0.9275\n",
            "Epoch 42/150\n",
            "44/44 [==============================] - 4s 86ms/step - loss: 0.1977 - accuracy: 0.9329 - val_loss: 0.1639 - val_accuracy: 0.9400\n",
            "Epoch 43/150\n",
            "44/44 [==============================] - 4s 85ms/step - loss: 0.2143 - accuracy: 0.9307 - val_loss: 0.2369 - val_accuracy: 0.9325\n",
            "Epoch 44/150\n",
            "44/44 [==============================] - 4s 87ms/step - loss: 0.1842 - accuracy: 0.9400 - val_loss: 0.1823 - val_accuracy: 0.9525\n",
            "Epoch 45/150\n",
            "44/44 [==============================] - 4s 87ms/step - loss: 0.1766 - accuracy: 0.9314 - val_loss: 0.2187 - val_accuracy: 0.9450\n",
            "Epoch 46/150\n",
            "44/44 [==============================] - 4s 84ms/step - loss: 0.1801 - accuracy: 0.9400 - val_loss: 0.3019 - val_accuracy: 0.9025\n",
            "Epoch 47/150\n",
            "44/44 [==============================] - 4s 86ms/step - loss: 0.1836 - accuracy: 0.9386 - val_loss: 0.4179 - val_accuracy: 0.9000\n",
            "Epoch 48/150\n",
            "44/44 [==============================] - 4s 86ms/step - loss: 0.1710 - accuracy: 0.9457 - val_loss: 0.1919 - val_accuracy: 0.9400\n",
            "Epoch 49/150\n",
            "44/44 [==============================] - 4s 89ms/step - loss: 0.1869 - accuracy: 0.9429 - val_loss: 0.6101 - val_accuracy: 0.8450\n",
            "Epoch 50/150\n",
            "44/44 [==============================] - 4s 93ms/step - loss: 0.1899 - accuracy: 0.9329 - val_loss: 0.3145 - val_accuracy: 0.9100\n",
            "Epoch 51/150\n",
            "44/44 [==============================] - 4s 86ms/step - loss: 0.1838 - accuracy: 0.9350 - val_loss: 0.1975 - val_accuracy: 0.9450\n",
            "Epoch 52/150\n",
            "44/44 [==============================] - 4s 87ms/step - loss: 0.1625 - accuracy: 0.9507 - val_loss: 0.2422 - val_accuracy: 0.9475\n",
            "Epoch 53/150\n",
            "44/44 [==============================] - 4s 88ms/step - loss: 0.1964 - accuracy: 0.9371 - val_loss: 0.1919 - val_accuracy: 0.9375\n",
            "Epoch 54/150\n",
            "44/44 [==============================] - 4s 90ms/step - loss: 0.1687 - accuracy: 0.9450 - val_loss: 0.3551 - val_accuracy: 0.8950\n",
            "Epoch 55/150\n",
            "44/44 [==============================] - 4s 86ms/step - loss: 0.1882 - accuracy: 0.9379 - val_loss: 0.6653 - val_accuracy: 0.8325\n",
            "Epoch 56/150\n",
            "44/44 [==============================] - 4s 86ms/step - loss: 0.2016 - accuracy: 0.9350 - val_loss: 0.1693 - val_accuracy: 0.9550\n",
            "Epoch 57/150\n",
            "44/44 [==============================] - 4s 89ms/step - loss: 0.1767 - accuracy: 0.9357 - val_loss: 0.2433 - val_accuracy: 0.9350\n",
            "Epoch 58/150\n",
            "44/44 [==============================] - 4s 89ms/step - loss: 0.1604 - accuracy: 0.9543 - val_loss: 0.8561 - val_accuracy: 0.7675\n",
            "Epoch 59/150\n",
            "44/44 [==============================] - 4s 88ms/step - loss: 0.1788 - accuracy: 0.9407 - val_loss: 0.2441 - val_accuracy: 0.9475\n",
            "Epoch 60/150\n",
            "44/44 [==============================] - 4s 85ms/step - loss: 0.1703 - accuracy: 0.9507 - val_loss: 0.1786 - val_accuracy: 0.9550\n",
            "Epoch 61/150\n",
            "44/44 [==============================] - 4s 85ms/step - loss: 0.1515 - accuracy: 0.9536 - val_loss: 0.2443 - val_accuracy: 0.9575\n",
            "Epoch 62/150\n",
            "44/44 [==============================] - 4s 86ms/step - loss: 0.1624 - accuracy: 0.9479 - val_loss: 0.3572 - val_accuracy: 0.9025\n",
            "Epoch 63/150\n",
            "44/44 [==============================] - 4s 87ms/step - loss: 0.1603 - accuracy: 0.9479 - val_loss: 0.1715 - val_accuracy: 0.9550\n",
            "Epoch 64/150\n",
            "44/44 [==============================] - 4s 85ms/step - loss: 0.1643 - accuracy: 0.9464 - val_loss: 0.2979 - val_accuracy: 0.9300\n",
            "Epoch 65/150\n",
            "44/44 [==============================] - 4s 86ms/step - loss: 0.1903 - accuracy: 0.9400 - val_loss: 0.2024 - val_accuracy: 0.9500\n",
            "Epoch 66/150\n",
            "44/44 [==============================] - 4s 86ms/step - loss: 0.1625 - accuracy: 0.9457 - val_loss: 0.1746 - val_accuracy: 0.9525\n",
            "Epoch 67/150\n",
            "44/44 [==============================] - 4s 86ms/step - loss: 0.1434 - accuracy: 0.9486 - val_loss: 0.2375 - val_accuracy: 0.9525\n",
            "Epoch 68/150\n",
            "44/44 [==============================] - 4s 88ms/step - loss: 0.1667 - accuracy: 0.9443 - val_loss: 0.2474 - val_accuracy: 0.9500\n",
            "Epoch 69/150\n",
            "44/44 [==============================] - 4s 85ms/step - loss: 0.1691 - accuracy: 0.9514 - val_loss: 0.3208 - val_accuracy: 0.9225\n",
            "Epoch 70/150\n",
            "44/44 [==============================] - 4s 86ms/step - loss: 0.1565 - accuracy: 0.9507 - val_loss: 0.1607 - val_accuracy: 0.9450\n",
            "Epoch 71/150\n",
            "44/44 [==============================] - 4s 86ms/step - loss: 0.1497 - accuracy: 0.9529 - val_loss: 0.2524 - val_accuracy: 0.9575\n",
            "Epoch 72/150\n",
            "44/44 [==============================] - 4s 85ms/step - loss: 0.1678 - accuracy: 0.9436 - val_loss: 0.2339 - val_accuracy: 0.9525\n",
            "Epoch 73/150\n",
            "44/44 [==============================] - 4s 87ms/step - loss: 0.1486 - accuracy: 0.9543 - val_loss: 0.3932 - val_accuracy: 0.9275\n",
            "Epoch 74/150\n",
            "44/44 [==============================] - 4s 85ms/step - loss: 0.1533 - accuracy: 0.9564 - val_loss: 0.4000 - val_accuracy: 0.9325\n",
            "Epoch 75/150\n",
            "44/44 [==============================] - 4s 88ms/step - loss: 0.1662 - accuracy: 0.9550 - val_loss: 0.3013 - val_accuracy: 0.9275\n",
            "Epoch 76/150\n",
            "44/44 [==============================] - 4s 87ms/step - loss: 0.1491 - accuracy: 0.9507 - val_loss: 0.3068 - val_accuracy: 0.9425\n",
            "Epoch 77/150\n",
            "44/44 [==============================] - 4s 88ms/step - loss: 0.1546 - accuracy: 0.9536 - val_loss: 0.3372 - val_accuracy: 0.9650\n",
            "Epoch 78/150\n",
            "44/44 [==============================] - 4s 88ms/step - loss: 0.1464 - accuracy: 0.9521 - val_loss: 0.3477 - val_accuracy: 0.9375\n",
            "Epoch 79/150\n",
            "44/44 [==============================] - 4s 88ms/step - loss: 0.1741 - accuracy: 0.9471 - val_loss: 0.4224 - val_accuracy: 0.9125\n",
            "Epoch 80/150\n",
            "44/44 [==============================] - 4s 88ms/step - loss: 0.1426 - accuracy: 0.9621 - val_loss: 0.2666 - val_accuracy: 0.9575\n",
            "Epoch 81/150\n",
            "44/44 [==============================] - 4s 87ms/step - loss: 0.1453 - accuracy: 0.9593 - val_loss: 0.1930 - val_accuracy: 0.9600\n",
            "Epoch 82/150\n",
            "44/44 [==============================] - 4s 86ms/step - loss: 0.1608 - accuracy: 0.9514 - val_loss: 0.2350 - val_accuracy: 0.9450\n",
            "Epoch 83/150\n",
            "44/44 [==============================] - 4s 86ms/step - loss: 0.1354 - accuracy: 0.9614 - val_loss: 0.3555 - val_accuracy: 0.9350\n",
            "Epoch 84/150\n",
            "44/44 [==============================] - 4s 86ms/step - loss: 0.1662 - accuracy: 0.9500 - val_loss: 0.3156 - val_accuracy: 0.9425\n",
            "Epoch 85/150\n",
            "44/44 [==============================] - 4s 84ms/step - loss: 0.1491 - accuracy: 0.9571 - val_loss: 0.2565 - val_accuracy: 0.9575\n",
            "Epoch 86/150\n",
            "44/44 [==============================] - 4s 84ms/step - loss: 0.1709 - accuracy: 0.9514 - val_loss: 0.2399 - val_accuracy: 0.9500\n",
            "Epoch 87/150\n",
            "44/44 [==============================] - 4s 85ms/step - loss: 0.1400 - accuracy: 0.9579 - val_loss: 0.2392 - val_accuracy: 0.9650\n",
            "Epoch 88/150\n",
            "44/44 [==============================] - 4s 88ms/step - loss: 0.1434 - accuracy: 0.9593 - val_loss: 0.3135 - val_accuracy: 0.9600\n",
            "Epoch 89/150\n",
            "44/44 [==============================] - 4s 89ms/step - loss: 0.1506 - accuracy: 0.9579 - val_loss: 0.2836 - val_accuracy: 0.9425\n",
            "Epoch 90/150\n",
            "44/44 [==============================] - 4s 87ms/step - loss: 0.1643 - accuracy: 0.9586 - val_loss: 0.3488 - val_accuracy: 0.9450\n",
            "Epoch 91/150\n",
            "44/44 [==============================] - 4s 84ms/step - loss: 0.1569 - accuracy: 0.9600 - val_loss: 0.2439 - val_accuracy: 0.9525\n",
            "Epoch 92/150\n",
            "44/44 [==============================] - 4s 85ms/step - loss: 0.1369 - accuracy: 0.9643 - val_loss: 0.2436 - val_accuracy: 0.9600\n",
            "Epoch 93/150\n",
            "44/44 [==============================] - 4s 85ms/step - loss: 0.1439 - accuracy: 0.9636 - val_loss: 0.2383 - val_accuracy: 0.9625\n",
            "Epoch 94/150\n",
            "44/44 [==============================] - 4s 86ms/step - loss: 0.1501 - accuracy: 0.9564 - val_loss: 0.3026 - val_accuracy: 0.9325\n",
            "Epoch 95/150\n",
            "44/44 [==============================] - 4s 83ms/step - loss: 0.1519 - accuracy: 0.9586 - val_loss: 0.2382 - val_accuracy: 0.9550\n",
            "Epoch 96/150\n",
            "44/44 [==============================] - 4s 85ms/step - loss: 0.1422 - accuracy: 0.9629 - val_loss: 0.1604 - val_accuracy: 0.9575\n",
            "Epoch 97/150\n",
            "44/44 [==============================] - 4s 84ms/step - loss: 0.1347 - accuracy: 0.9679 - val_loss: 0.1990 - val_accuracy: 0.9625\n",
            "Epoch 98/150\n",
            "44/44 [==============================] - 4s 85ms/step - loss: 0.1683 - accuracy: 0.9571 - val_loss: 0.2052 - val_accuracy: 0.9575\n",
            "Epoch 99/150\n",
            "44/44 [==============================] - 4s 85ms/step - loss: 0.1458 - accuracy: 0.9643 - val_loss: 0.2094 - val_accuracy: 0.9450\n",
            "Epoch 100/150\n",
            "44/44 [==============================] - 4s 84ms/step - loss: 0.1441 - accuracy: 0.9693 - val_loss: 0.2773 - val_accuracy: 0.9525\n",
            "Epoch 101/150\n",
            "44/44 [==============================] - 4s 84ms/step - loss: 0.1514 - accuracy: 0.9643 - val_loss: 0.2678 - val_accuracy: 0.9250\n",
            "Epoch 102/150\n",
            "44/44 [==============================] - 4s 84ms/step - loss: 0.1100 - accuracy: 0.9686 - val_loss: 0.3963 - val_accuracy: 0.9500\n",
            "Epoch 103/150\n",
            "44/44 [==============================] - 4s 85ms/step - loss: 0.1684 - accuracy: 0.9564 - val_loss: 0.5315 - val_accuracy: 0.8900\n",
            "Epoch 104/150\n",
            "44/44 [==============================] - 4s 85ms/step - loss: 0.1319 - accuracy: 0.9664 - val_loss: 0.2883 - val_accuracy: 0.9525\n",
            "Epoch 105/150\n",
            "44/44 [==============================] - 4s 85ms/step - loss: 0.1342 - accuracy: 0.9657 - val_loss: 0.2773 - val_accuracy: 0.9500\n",
            "Epoch 106/150\n",
            "44/44 [==============================] - 4s 86ms/step - loss: 0.1333 - accuracy: 0.9593 - val_loss: 0.2885 - val_accuracy: 0.9650\n",
            "Epoch 107/150\n",
            "44/44 [==============================] - 4s 86ms/step - loss: 0.1618 - accuracy: 0.9614 - val_loss: 0.2510 - val_accuracy: 0.9500\n",
            "Epoch 108/150\n",
            "44/44 [==============================] - 4s 85ms/step - loss: 0.1261 - accuracy: 0.9614 - val_loss: 0.4273 - val_accuracy: 0.9375\n",
            "Epoch 109/150\n",
            "44/44 [==============================] - 4s 85ms/step - loss: 0.1331 - accuracy: 0.9679 - val_loss: 0.2967 - val_accuracy: 0.9450\n",
            "Epoch 110/150\n",
            "44/44 [==============================] - 4s 85ms/step - loss: 0.1430 - accuracy: 0.9614 - val_loss: 0.2967 - val_accuracy: 0.9650\n",
            "Epoch 111/150\n",
            "44/44 [==============================] - 4s 87ms/step - loss: 0.1173 - accuracy: 0.9671 - val_loss: 0.4772 - val_accuracy: 0.9425\n",
            "Epoch 112/150\n",
            "44/44 [==============================] - 4s 86ms/step - loss: 0.1734 - accuracy: 0.9629 - val_loss: 0.2271 - val_accuracy: 0.9525\n",
            "Epoch 113/150\n",
            "44/44 [==============================] - 4s 85ms/step - loss: 0.1082 - accuracy: 0.9750 - val_loss: 0.3240 - val_accuracy: 0.9450\n",
            "Epoch 114/150\n",
            "44/44 [==============================] - 4s 84ms/step - loss: 0.1281 - accuracy: 0.9629 - val_loss: 0.3373 - val_accuracy: 0.9375\n",
            "Epoch 115/150\n",
            "44/44 [==============================] - 4s 84ms/step - loss: 0.1306 - accuracy: 0.9664 - val_loss: 0.3105 - val_accuracy: 0.9625\n",
            "Epoch 116/150\n",
            "44/44 [==============================] - 4s 84ms/step - loss: 0.1485 - accuracy: 0.9586 - val_loss: 0.4124 - val_accuracy: 0.9075\n",
            "Epoch 117/150\n",
            "44/44 [==============================] - 4s 84ms/step - loss: 0.1589 - accuracy: 0.9700 - val_loss: 0.2997 - val_accuracy: 0.9250\n",
            "Epoch 118/150\n",
            "44/44 [==============================] - 4s 85ms/step - loss: 0.1338 - accuracy: 0.9629 - val_loss: 0.2928 - val_accuracy: 0.9575\n",
            "Epoch 119/150\n",
            "44/44 [==============================] - 4s 84ms/step - loss: 0.1505 - accuracy: 0.9657 - val_loss: 0.3273 - val_accuracy: 0.9600\n",
            "Epoch 120/150\n",
            "44/44 [==============================] - 4s 84ms/step - loss: 0.1241 - accuracy: 0.9679 - val_loss: 0.4281 - val_accuracy: 0.9350\n",
            "Epoch 121/150\n",
            "44/44 [==============================] - 4s 84ms/step - loss: 0.1707 - accuracy: 0.9650 - val_loss: 0.2779 - val_accuracy: 0.9600\n",
            "Epoch 122/150\n",
            "44/44 [==============================] - 4s 85ms/step - loss: 0.1330 - accuracy: 0.9621 - val_loss: 0.3828 - val_accuracy: 0.9350\n",
            "Epoch 123/150\n",
            "44/44 [==============================] - 4s 84ms/step - loss: 0.1192 - accuracy: 0.9679 - val_loss: 0.5023 - val_accuracy: 0.9225\n",
            "Epoch 124/150\n",
            "44/44 [==============================] - 4s 85ms/step - loss: 0.1210 - accuracy: 0.9714 - val_loss: 0.4754 - val_accuracy: 0.8925\n",
            "Epoch 125/150\n",
            "44/44 [==============================] - 4s 86ms/step - loss: 0.1360 - accuracy: 0.9707 - val_loss: 0.3336 - val_accuracy: 0.9550\n",
            "Epoch 126/150\n",
            "44/44 [==============================] - 4s 85ms/step - loss: 0.1688 - accuracy: 0.9564 - val_loss: 0.2780 - val_accuracy: 0.9625\n",
            "Epoch 127/150\n",
            "44/44 [==============================] - 4s 84ms/step - loss: 0.1111 - accuracy: 0.9714 - val_loss: 0.2924 - val_accuracy: 0.9450\n",
            "Epoch 128/150\n",
            "44/44 [==============================] - 4s 83ms/step - loss: 0.1334 - accuracy: 0.9636 - val_loss: 0.3828 - val_accuracy: 0.9250\n",
            "Epoch 129/150\n",
            "44/44 [==============================] - 4s 84ms/step - loss: 0.1307 - accuracy: 0.9721 - val_loss: 0.6258 - val_accuracy: 0.9075\n",
            "Epoch 130/150\n",
            "44/44 [==============================] - 4s 84ms/step - loss: 0.1063 - accuracy: 0.9743 - val_loss: 0.2857 - val_accuracy: 0.9500\n",
            "Epoch 131/150\n",
            "44/44 [==============================] - 4s 85ms/step - loss: 0.1178 - accuracy: 0.9700 - val_loss: 0.3860 - val_accuracy: 0.9500\n",
            "Epoch 132/150\n",
            "44/44 [==============================] - 4s 83ms/step - loss: 0.1170 - accuracy: 0.9743 - val_loss: 0.3205 - val_accuracy: 0.9575\n",
            "Epoch 133/150\n",
            "44/44 [==============================] - 4s 84ms/step - loss: 0.1203 - accuracy: 0.9764 - val_loss: 0.4850 - val_accuracy: 0.9400\n",
            "Epoch 134/150\n",
            "44/44 [==============================] - 4s 85ms/step - loss: 0.1634 - accuracy: 0.9579 - val_loss: 0.3065 - val_accuracy: 0.9450\n",
            "Epoch 135/150\n",
            "44/44 [==============================] - 4s 84ms/step - loss: 0.1201 - accuracy: 0.9779 - val_loss: 0.3278 - val_accuracy: 0.9550\n",
            "Epoch 136/150\n",
            "44/44 [==============================] - 4s 84ms/step - loss: 0.1346 - accuracy: 0.9686 - val_loss: 0.5298 - val_accuracy: 0.9250\n",
            "Epoch 137/150\n",
            "44/44 [==============================] - 4s 86ms/step - loss: 0.1169 - accuracy: 0.9736 - val_loss: 0.3360 - val_accuracy: 0.9600\n",
            "Epoch 138/150\n",
            "44/44 [==============================] - 4s 85ms/step - loss: 0.1311 - accuracy: 0.9679 - val_loss: 0.3484 - val_accuracy: 0.9650\n",
            "Epoch 139/150\n",
            "44/44 [==============================] - 4s 85ms/step - loss: 0.1235 - accuracy: 0.9750 - val_loss: 0.4756 - val_accuracy: 0.9400\n",
            "Epoch 140/150\n",
            "44/44 [==============================] - 4s 84ms/step - loss: 0.1019 - accuracy: 0.9771 - val_loss: 0.3875 - val_accuracy: 0.9475\n",
            "Epoch 141/150\n",
            "44/44 [==============================] - 4s 86ms/step - loss: 0.1451 - accuracy: 0.9643 - val_loss: 1.0607 - val_accuracy: 0.8375\n",
            "Epoch 142/150\n",
            "44/44 [==============================] - 4s 87ms/step - loss: 0.1399 - accuracy: 0.9679 - val_loss: 0.4438 - val_accuracy: 0.9450\n",
            "Epoch 143/150\n",
            "44/44 [==============================] - 4s 84ms/step - loss: 0.1522 - accuracy: 0.9607 - val_loss: 0.2762 - val_accuracy: 0.9450\n",
            "Epoch 144/150\n",
            "44/44 [==============================] - 4s 86ms/step - loss: 0.1282 - accuracy: 0.9707 - val_loss: 0.7818 - val_accuracy: 0.8925\n",
            "Epoch 145/150\n",
            "44/44 [==============================] - 4s 84ms/step - loss: 0.1544 - accuracy: 0.9629 - val_loss: 0.3909 - val_accuracy: 0.9525\n",
            "Epoch 146/150\n",
            "44/44 [==============================] - 4s 86ms/step - loss: 0.1256 - accuracy: 0.9650 - val_loss: 0.4243 - val_accuracy: 0.9375\n",
            "Epoch 147/150\n",
            "44/44 [==============================] - 4s 85ms/step - loss: 0.1396 - accuracy: 0.9686 - val_loss: 0.4220 - val_accuracy: 0.9525\n",
            "Epoch 148/150\n",
            "44/44 [==============================] - 4s 84ms/step - loss: 0.1165 - accuracy: 0.9664 - val_loss: 0.3684 - val_accuracy: 0.9475\n",
            "Epoch 149/150\n",
            "44/44 [==============================] - 4s 87ms/step - loss: 0.1329 - accuracy: 0.9679 - val_loss: 0.3440 - val_accuracy: 0.9550\n",
            "Epoch 150/150\n",
            "44/44 [==============================] - 4s 85ms/step - loss: 0.1109 - accuracy: 0.9714 - val_loss: 0.5202 - val_accuracy: 0.9525\n"
          ]
        }
      ],
      "source": [
        "callbacks = [\n",
        "    keras.callbacks.ModelCheckpoint(\n",
        "        filepath=\"pvdm3.h5\",\n",
        "        save_best_only = True,\n",
        "        monitor = \"val_loss\")\n",
        "]\n",
        "\n",
        "history3 = pvdm3.fit(\n",
        "    train_dataset,\n",
        "    epochs = 150,\n",
        "    validation_data = valdiation_dataset,\n",
        "    callbacks = callbacks\n",
        "\n",
        ")"
      ]
    },
    {
      "cell_type": "markdown",
      "metadata": {
        "id": "H5DEOLHKMd6H"
      },
      "source": [
        "## Displaying Curves of Loss and Accuracy during Training"
      ]
    },
    {
      "cell_type": "code",
      "execution_count": null,
      "metadata": {
        "id": "IHs4lVeYMd6I",
        "colab": {
          "base_uri": "https://localhost:8080/"
        },
        "outputId": "acc7e8b3-0f0f-4834-ea8a-b0a982c4d6e0"
      },
      "outputs": [
        {
          "output_type": "display_data",
          "data": {
            "text/plain": [
              "<Figure size 432x288 with 1 Axes>"
            ],
            "image/png": "[encoded data removed]"
          },
          "metadata": {
            "needs_background": "light"
          }
        },
        {
          "output_type": "display_data",
          "data": {
            "text/plain": [
              "<Figure size 432x288 with 1 Axes>"
            ],
            "image/png": "[encoded data removed]"
          },
          "metadata": {
            "needs_background": "light"
          }
        },
        {
          "output_type": "stream",
          "name": "stdout",
          "text": [
            "Final Training loss:  0.110855832695961 \n",
            "Final Training Accuracy:  0.9714285731315613\n",
            "Final Validation loss:  0.5202299952507019 \n",
            "Final Validation Accuracy:  0.9524999856948853\n"
          ]
        }
      ],
      "source": [
        "accuracy = history3.history[\"accuracy\"]\n",
        "val_accuracy = history3.history[\"val_accuracy\"]\n",
        "loss = history3.history[\"loss\"]\n",
        "val_loss = history3.history[\"val_loss\"]\n",
        "epochs = range(1, len(accuracy) + 1)\n",
        "plt.plot(epochs, accuracy, \"bo\", label=\"Training accuracy\")\n",
        "plt.plot(epochs, val_accuracy, \"b\", label=\"Validation accuracy\")\n",
        "plt.title(\"Training and validation accuracy\")\n",
        "plt.legend()\n",
        "plt.figure()\n",
        "plt.plot(epochs, loss, \"bo\", label=\"Training loss\")\n",
        "plt.plot(epochs, val_loss, \"b\", label=\"Validation loss\")\n",
        "plt.title(\"Training and validation loss\")\n",
        "plt.legend()\n",
        "plt.show()\n",
        "# Final Values\n",
        "print(\"Final Training loss: \",history3.history['loss'][-1],\"\\nFinal Training Accuracy: \", history3.history['accuracy'][-1])\n",
        "print(\"Final Validation loss: \",history3.history['val_loss'][-1],\"\\nFinal Validation Accuracy: \", history3.history['val_accuracy'][-1])"
      ]
    },
    {
      "cell_type": "markdown",
      "source": [
        "## Evaluate Model"
      ],
      "metadata": {
        "id": "8Qg6K7pFGcma"
      }
    },
    {
      "cell_type": "code",
      "source": [
        "pvdm3.evaluate(test_dataset)\n"
      ],
      "metadata": {
        "id": "emwobOyyGex8",
        "colab": {
          "base_uri": "https://localhost:8080/"
        },
        "outputId": "bde57f54-bb07-4c7b-ba6f-aa66ac1fa091"
      },
      "execution_count": null,
      "outputs": [
        {
          "output_type": "stream",
          "name": "stdout",
          "text": [
            "7/7 [==============================] - 1s 41ms/step - loss: 0.2579 - accuracy: 0.9450\n"
          ]
        },
        {
          "output_type": "execute_result",
          "data": {
            "text/plain": [
              "[0.2579241693019867, 0.9449999928474426]"
            ]
          },
          "metadata": {},
          "execution_count": 14
        }
      ]
    }
  ],
  "metadata": {
    "colab": {
      "collapsed_sections": [
        "m5xO29Qh5WsI",
        "0wcD_dQz5yTf",
        "WIDMvWvZ6EpH",
        "1Oqqt_Vo6ayn",
        "xpAQqFE465C8",
        "9gB37dZB73ml",
        "fLO7b3tcAMot",
        "wK_LIeZaAe9R",
        "sk_o0ygBBk57",
        "DtYypP2gCQvZ",
        "NDMb8L3YCnsJ",
        "uqWtd2rMDDGc",
        "QAyGQ1ltEcj3",
        "v-4MszCbGvUW",
        "lmrK7Bu38eu2",
        "kgZks_pz8eu3",
        "SATmMmBp8eu3",
        "x78JgR2m8eu3",
        "XgZHcwFPGnN9",
        "D85mdmbiMd6B",
        "tZDTJxIfMd6F",
        "g5O2hZmXMd6G",
        "H5DEOLHKMd6H",
        "8Qg6K7pFGcma"
      ],
      "name": "Panda-vs-Dog-Classifier.ipynb",
      "provenance": [],
      "history_visible": true,
      "authorship_tag": "ABX9TyMILrgNRJht5IR3gcY75srC",
      "include_colab_link": true
    },
    "kernelspec": {
      "display_name": "Python 3",
      "name": "python3"
    },
    "language_info": {
      "name": "python"
    },
    "accelerator": "GPU"
  },
  "nbformat": 4,
  "nbformat_minor": 0
}