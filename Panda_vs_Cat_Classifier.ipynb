{
  "nbformat": 4,
  "nbformat_minor": 0,
  "metadata": {
    "colab": {
      "name": "Panda-vs-Cat-Classifier.ipynb",
      "provenance": [],
      "collapsed_sections": [
        "m5xO29Qh5WsI",
        "WIDMvWvZ6EpH",
        "1Oqqt_Vo6ayn",
        "xpAQqFE465C8",
        "9gB37dZB73ml",
        "u7QEMoZlHIU7",
        "wK_LIeZaAe9R",
        "sk_o0ygBBk57",
        "DtYypP2gCQvZ",
        "QAyGQ1ltEcj3",
        "lmrK7Bu38eu2",
        "SATmMmBp8eu3",
        "D85mdmbiMd6B",
        "g5O2hZmXMd6G",
        "H5DEOLHKMd6H"
      ],
      "history_visible": true,
      "authorship_tag": "ABX9TyNdmwCGH1AidIMDnsqYz2Sn",
      "include_colab_link": true
    },
    "kernelspec": {
      "name": "python3",
      "display_name": "Python 3"
    },
    "language_info": {
      "name": "python"
    },
    "accelerator": "GPU"
  },
  "cells": [
    {
      "cell_type": "markdown",
      "metadata": {
        "id": "view-in-github",
        "colab_type": "text"
      },
      "source": [
        "<a href=\"https://colab.research.google.com/github/ZefraAlseif/Panda-vs-Dogs-Cats/blob/main/Panda_vs_Cat_Classifier.ipynb\" target=\"_parent\"><img src=\"https://colab.research.google.com/assets/colab-badge.svg\" alt=\"Open In Colab\"/></a>"
      ]
    },
    {
      "cell_type": "markdown",
      "source": [
        "# Importing Libraries"
      ],
      "metadata": {
        "id": "m5xO29Qh5WsI"
      }
    },
    {
      "cell_type": "code",
      "execution_count": null,
      "metadata": {
        "id": "gPcXdUhz5K0k"
      },
      "outputs": [],
      "source": [
        "import matplotlib.pyplot as plt\n",
        "import seaborn as sns\n",
        "import numpy as np\n",
        "import pandas as pd\n",
        "from io import StringIO\n",
        "from sklearn.preprocessing import LabelEncoder\n",
        "import sklearn \n",
        "from sklearn.model_selection import train_test_split\n",
        "from numpy import array\n",
        "from numpy import argmax\n",
        "from sklearn.preprocessing import LabelEncoder\n",
        "from sklearn.preprocessing import OneHotEncoder\n",
        "import copy\n",
        "from keras.engine.input_layer import Input\n",
        "import tensorflow as tf\n",
        "from tensorflow import keras\n",
        "from tensorflow.keras import layers\n",
        "from sklearn.neighbors import KNeighborsClassifier\n",
        "from sklearn.naive_bayes import GaussianNB\n",
        "from sklearn.neural_network import MLPClassifier\n",
        "from google.colab import files\n",
        "import os, shutil, pathlib\n",
        "from tensorflow.keras.preprocessing import image_dataset_from_directory\n",
        "from keras import regularizers\n",
        "from sklearn.utils import validation"
      ]
    },
    {
      "cell_type": "markdown",
      "source": [
        "# Uploading Kaggle JSon File"
      ],
      "metadata": {
        "id": "0wcD_dQz5yTf"
      }
    },
    {
      "cell_type": "code",
      "source": [
        "files.upload()"
      ],
      "metadata": {
        "colab": {
          "resources": {
            "http://localhost:8080/nbextensions/google.colab/files.js": {
              "data": "Ly8gQ29weXJpZ2h0IDIwMTcgR29vZ2xlIExMQwovLwovLyBMaWNlbnNlZCB1bmRlciB0aGUgQXBhY2hlIExpY2Vuc2UsIFZlcnNpb24gMi4wICh0aGUgIkxpY2Vuc2UiKTsKLy8geW91IG1heSBub3QgdXNlIHRoaXMgZmlsZSBleGNlcHQgaW4gY29tcGxpYW5jZSB3aXRoIHRoZSBMaWNlbnNlLgovLyBZb3UgbWF5IG9idGFpbiBhIGNvcHkgb2YgdGhlIExpY2Vuc2UgYXQKLy8KLy8gICAgICBodHRwOi8vd3d3LmFwYWNoZS5vcmcvbGljZW5zZXMvTElDRU5TRS0yLjAKLy8KLy8gVW5sZXNzIHJlcXVpcmVkIGJ5IGFwcGxpY2FibGUgbGF3IG9yIGFncmVlZCB0byBpbiB3cml0aW5nLCBzb2Z0d2FyZQovLyBkaXN0cmlidXRlZCB1bmRlciB0aGUgTGljZW5zZSBpcyBkaXN0cmlidXRlZCBvbiBhbiAiQVMgSVMiIEJBU0lTLAovLyBXSVRIT1VUIFdBUlJBTlRJRVMgT1IgQ09ORElUSU9OUyBPRiBBTlkgS0lORCwgZWl0aGVyIGV4cHJlc3Mgb3IgaW1wbGllZC4KLy8gU2VlIHRoZSBMaWNlbnNlIGZvciB0aGUgc3BlY2lmaWMgbGFuZ3VhZ2UgZ292ZXJuaW5nIHBlcm1pc3Npb25zIGFuZAovLyBsaW1pdGF0aW9ucyB1bmRlciB0aGUgTGljZW5zZS4KCi8qKgogKiBAZmlsZW92ZXJ2aWV3IEhlbHBlcnMgZm9yIGdvb2dsZS5jb2xhYiBQeXRob24gbW9kdWxlLgogKi8KKGZ1bmN0aW9uKHNjb3BlKSB7CmZ1bmN0aW9uIHNwYW4odGV4dCwgc3R5bGVBdHRyaWJ1dGVzID0ge30pIHsKICBjb25zdCBlbGVtZW50ID0gZG9jdW1lbnQuY3JlYXRlRWxlbWVudCgnc3BhbicpOwogIGVsZW1lbnQudGV4dENvbnRlbnQgPSB0ZXh0OwogIGZvciAoY29uc3Qga2V5IG9mIE9iamVjdC5rZXlzKHN0eWxlQXR0cmlidXRlcykpIHsKICAgIGVsZW1lbnQuc3R5bGVba2V5XSA9IHN0eWxlQXR0cmlidXRlc1trZXldOwogIH0KICByZXR1cm4gZWxlbWVudDsKfQoKLy8gTWF4IG51bWJlciBvZiBieXRlcyB3aGljaCB3aWxsIGJlIHVwbG9hZGVkIGF0IGEgdGltZS4KY29uc3QgTUFYX1BBWUxPQURfU0laRSA9IDEwMCAqIDEwMjQ7CgpmdW5jdGlvbiBfdXBsb2FkRmlsZXMoaW5wdXRJZCwgb3V0cHV0SWQpIHsKICBjb25zdCBzdGVwcyA9IHVwbG9hZEZpbGVzU3RlcChpbnB1dElkLCBvdXRwdXRJZCk7CiAgY29uc3Qgb3V0cHV0RWxlbWVudCA9IGRvY3VtZW50LmdldEVsZW1lbnRCeUlkKG91dHB1dElkKTsKICAvLyBDYWNoZSBzdGVwcyBvbiB0aGUgb3V0cHV0RWxlbWVudCB0byBtYWtlIGl0IGF2YWlsYWJsZSBmb3IgdGhlIG5leHQgY2FsbAogIC8vIHRvIHVwbG9hZEZpbGVzQ29udGludWUgZnJvbSBQeXRob24uCiAgb3V0cHV0RWxlbWVudC5zdGVwcyA9IHN0ZXBzOwoKICByZXR1cm4gX3VwbG9hZEZpbGVzQ29udGludWUob3V0cHV0SWQpOwp9CgovLyBUaGlzIGlzIHJvdWdobHkgYW4gYXN5bmMgZ2VuZXJhdG9yIChub3Qgc3VwcG9ydGVkIGluIHRoZSBicm93c2VyIHlldCksCi8vIHdoZXJlIHRoZXJlIGFyZSBtdWx0aXBsZSBhc3luY2hyb25vdXMgc3RlcHMgYW5kIHRoZSBQeXRob24gc2lkZSBpcyBnb2luZwovLyB0byBwb2xsIGZvciBjb21wbGV0aW9uIG9mIGVhY2ggc3RlcC4KLy8gVGhpcyB1c2VzIGEgUHJvbWlzZSB0byBibG9jayB0aGUgcHl0aG9uIHNpZGUgb24gY29tcGxldGlvbiBvZiBlYWNoIHN0ZXAsCi8vIHRoZW4gcGFzc2VzIHRoZSByZXN1bHQgb2YgdGhlIHByZXZpb3VzIHN0ZXAgYXMgdGhlIGlucHV0IHRvIHRoZSBuZXh0IHN0ZXAuCmZ1bmN0aW9uIF91cGxvYWRGaWxlc0NvbnRpbnVlKG91dHB1dElkKSB7CiAgY29uc3Qgb3V0cHV0RWxlbWVudCA9IGRvY3VtZW50LmdldEVsZW1lbnRCeUlkKG91dHB1dElkKTsKICBjb25zdCBzdGVwcyA9IG91dHB1dEVsZW1lbnQuc3RlcHM7CgogIGNvbnN0IG5leHQgPSBzdGVwcy5uZXh0KG91dHB1dEVsZW1lbnQubGFzdFByb21pc2VWYWx1ZSk7CiAgcmV0dXJuIFByb21pc2UucmVzb2x2ZShuZXh0LnZhbHVlLnByb21pc2UpLnRoZW4oKHZhbHVlKSA9PiB7CiAgICAvLyBDYWNoZSB0aGUgbGFzdCBwcm9taXNlIHZhbHVlIHRvIG1ha2UgaXQgYXZhaWxhYmxlIHRvIHRoZSBuZXh0CiAgICAvLyBzdGVwIG9mIHRoZSBnZW5lcmF0b3IuCiAgICBvdXRwdXRFbGVtZW50Lmxhc3RQcm9taXNlVmFsdWUgPSB2YWx1ZTsKICAgIHJldHVybiBuZXh0LnZhbHVlLnJlc3BvbnNlOwogIH0pOwp9CgovKioKICogR2VuZXJhdG9yIGZ1bmN0aW9uIHdoaWNoIGlzIGNhbGxlZCBiZXR3ZWVuIGVhY2ggYXN5bmMgc3RlcCBvZiB0aGUgdXBsb2FkCiAqIHByb2Nlc3MuCiAqIEBwYXJhbSB7c3RyaW5nfSBpbnB1dElkIEVsZW1lbnQgSUQgb2YgdGhlIGlucHV0IGZpbGUgcGlja2VyIGVsZW1lbnQuCiAqIEBwYXJhbSB7c3RyaW5nfSBvdXRwdXRJZCBFbGVtZW50IElEIG9mIHRoZSBvdXRwdXQgZGlzcGxheS4KICogQHJldHVybiB7IUl0ZXJhYmxlPCFPYmplY3Q+fSBJdGVyYWJsZSBvZiBuZXh0IHN0ZXBzLgogKi8KZnVuY3Rpb24qIHVwbG9hZEZpbGVzU3RlcChpbnB1dElkLCBvdXRwdXRJZCkgewogIGNvbnN0IGlucHV0RWxlbWVudCA9IGRvY3VtZW50LmdldEVsZW1lbnRCeUlkKGlucHV0SWQpOwogIGlucHV0RWxlbWVudC5kaXNhYmxlZCA9IGZhbHNlOwoKICBjb25zdCBvdXRwdXRFbGVtZW50ID0gZG9jdW1lbnQuZ2V0RWxlbWVudEJ5SWQob3V0cHV0SWQpOwogIG91dHB1dEVsZW1lbnQuaW5uZXJIVE1MID0gJyc7CgogIGNvbnN0IHBpY2tlZFByb21pc2UgPSBuZXcgUHJvbWlzZSgocmVzb2x2ZSkgPT4gewogICAgaW5wdXRFbGVtZW50LmFkZEV2ZW50TGlzdGVuZXIoJ2NoYW5nZScsIChlKSA9PiB7CiAgICAgIHJlc29sdmUoZS50YXJnZXQuZmlsZXMpOwogICAgfSk7CiAgfSk7CgogIGNvbnN0IGNhbmNlbCA9IGRvY3VtZW50LmNyZWF0ZUVsZW1lbnQoJ2J1dHRvbicpOwogIGlucHV0RWxlbWVudC5wYXJlbnRFbGVtZW50LmFwcGVuZENoaWxkKGNhbmNlbCk7CiAgY2FuY2VsLnRleHRDb250ZW50ID0gJ0NhbmNlbCB1cGxvYWQnOwogIGNvbnN0IGNhbmNlbFByb21pc2UgPSBuZXcgUHJvbWlzZSgocmVzb2x2ZSkgPT4gewogICAgY2FuY2VsLm9uY2xpY2sgPSAoKSA9PiB7CiAgICAgIHJlc29sdmUobnVsbCk7CiAgICB9OwogIH0pOwoKICAvLyBXYWl0IGZvciB0aGUgdXNlciB0byBwaWNrIHRoZSBmaWxlcy4KICBjb25zdCBmaWxlcyA9IHlpZWxkIHsKICAgIHByb21pc2U6IFByb21pc2UucmFjZShbcGlja2VkUHJvbWlzZSwgY2FuY2VsUHJvbWlzZV0pLAogICAgcmVzcG9uc2U6IHsKICAgICAgYWN0aW9uOiAnc3RhcnRpbmcnLAogICAgfQogIH07CgogIGNhbmNlbC5yZW1vdmUoKTsKCiAgLy8gRGlzYWJsZSB0aGUgaW5wdXQgZWxlbWVudCBzaW5jZSBmdXJ0aGVyIHBpY2tzIGFyZSBub3QgYWxsb3dlZC4KICBpbnB1dEVsZW1lbnQuZGlzYWJsZWQgPSB0cnVlOwoKICBpZiAoIWZpbGVzKSB7CiAgICByZXR1cm4gewogICAgICByZXNwb25zZTogewogICAgICAgIGFjdGlvbjogJ2NvbXBsZXRlJywKICAgICAgfQogICAgfTsKICB9CgogIGZvciAoY29uc3QgZmlsZSBvZiBmaWxlcykgewogICAgY29uc3QgbGkgPSBkb2N1bWVudC5jcmVhdGVFbGVtZW50KCdsaScpOwogICAgbGkuYXBwZW5kKHNwYW4oZmlsZS5uYW1lLCB7Zm9udFdlaWdodDogJ2JvbGQnfSkpOwogICAgbGkuYXBwZW5kKHNwYW4oCiAgICAgICAgYCgke2ZpbGUudHlwZSB8fCAnbi9hJ30pIC0gJHtmaWxlLnNpemV9IGJ5dGVzLCBgICsKICAgICAgICBgbGFzdCBtb2RpZmllZDogJHsKICAgICAgICAgICAgZmlsZS5sYXN0TW9kaWZpZWREYXRlID8gZmlsZS5sYXN0TW9kaWZpZWREYXRlLnRvTG9jYWxlRGF0ZVN0cmluZygpIDoKICAgICAgICAgICAgICAgICAgICAgICAgICAgICAgICAgICAgJ24vYSd9IC0gYCkpOwogICAgY29uc3QgcGVyY2VudCA9IHNwYW4oJzAlIGRvbmUnKTsKICAgIGxpLmFwcGVuZENoaWxkKHBlcmNlbnQpOwoKICAgIG91dHB1dEVsZW1lbnQuYXBwZW5kQ2hpbGQobGkpOwoKICAgIGNvbnN0IGZpbGVEYXRhUHJvbWlzZSA9IG5ldyBQcm9taXNlKChyZXNvbHZlKSA9PiB7CiAgICAgIGNvbnN0IHJlYWRlciA9IG5ldyBGaWxlUmVhZGVyKCk7CiAgICAgIHJlYWRlci5vbmxvYWQgPSAoZSkgPT4gewogICAgICAgIHJlc29sdmUoZS50YXJnZXQucmVzdWx0KTsKICAgICAgfTsKICAgICAgcmVhZGVyLnJlYWRBc0FycmF5QnVmZmVyKGZpbGUpOwogICAgfSk7CiAgICAvLyBXYWl0IGZvciB0aGUgZGF0YSB0byBiZSByZWFkeS4KICAgIGxldCBmaWxlRGF0YSA9IHlpZWxkIHsKICAgICAgcHJvbWlzZTogZmlsZURhdGFQcm9taXNlLAogICAgICByZXNwb25zZTogewogICAgICAgIGFjdGlvbjogJ2NvbnRpbnVlJywKICAgICAgfQogICAgfTsKCiAgICAvLyBVc2UgYSBjaHVua2VkIHNlbmRpbmcgdG8gYXZvaWQgbWVzc2FnZSBzaXplIGxpbWl0cy4gU2VlIGIvNjIxMTU2NjAuCiAgICBsZXQgcG9zaXRpb24gPSAwOwogICAgZG8gewogICAgICBjb25zdCBsZW5ndGggPSBNYXRoLm1pbihmaWxlRGF0YS5ieXRlTGVuZ3RoIC0gcG9zaXRpb24sIE1BWF9QQVlMT0FEX1NJWkUpOwogICAgICBjb25zdCBjaHVuayA9IG5ldyBVaW50OEFycmF5KGZpbGVEYXRhLCBwb3NpdGlvbiwgbGVuZ3RoKTsKICAgICAgcG9zaXRpb24gKz0gbGVuZ3RoOwoKICAgICAgY29uc3QgYmFzZTY0ID0gYnRvYShTdHJpbmcuZnJvbUNoYXJDb2RlLmFwcGx5KG51bGwsIGNodW5rKSk7CiAgICAgIHlpZWxkIHsKICAgICAgICByZXNwb25zZTogewogICAgICAgICAgYWN0aW9uOiAnYXBwZW5kJywKICAgICAgICAgIGZpbGU6IGZpbGUubmFtZSwKICAgICAgICAgIGRhdGE6IGJhc2U2NCwKICAgICAgICB9LAogICAgICB9OwoKICAgICAgbGV0IHBlcmNlbnREb25lID0gZmlsZURhdGEuYnl0ZUxlbmd0aCA9PT0gMCA/CiAgICAgICAgICAxMDAgOgogICAgICAgICAgTWF0aC5yb3VuZCgocG9zaXRpb24gLyBmaWxlRGF0YS5ieXRlTGVuZ3RoKSAqIDEwMCk7CiAgICAgIHBlcmNlbnQudGV4dENvbnRlbnQgPSBgJHtwZXJjZW50RG9uZX0lIGRvbmVgOwoKICAgIH0gd2hpbGUgKHBvc2l0aW9uIDwgZmlsZURhdGEuYnl0ZUxlbmd0aCk7CiAgfQoKICAvLyBBbGwgZG9uZS4KICB5aWVsZCB7CiAgICByZXNwb25zZTogewogICAgICBhY3Rpb246ICdjb21wbGV0ZScsCiAgICB9CiAgfTsKfQoKc2NvcGUuZ29vZ2xlID0gc2NvcGUuZ29vZ2xlIHx8IHt9OwpzY29wZS5nb29nbGUuY29sYWIgPSBzY29wZS5nb29nbGUuY29sYWIgfHwge307CnNjb3BlLmdvb2dsZS5jb2xhYi5fZmlsZXMgPSB7CiAgX3VwbG9hZEZpbGVzLAogIF91cGxvYWRGaWxlc0NvbnRpbnVlLAp9Owp9KShzZWxmKTsK",
              "ok": true,
              "headers": [
                [
                  "content-type",
                  "application/javascript"
                ]
              ],
              "status": 200,
              "status_text": ""
            }
          },
          "base_uri": "https://localhost:8080/",
          "height": 90
        },
        "id": "S0wU5Qx254Bq",
        "outputId": "2b044b11-4b64-4d8e-f41b-6dbcc69ba44b"
      },
      "execution_count": null,
      "outputs": [
        {
          "output_type": "display_data",
          "data": {
            "text/plain": [
              "<IPython.core.display.HTML object>"
            ],
            "text/html": [
              "\n",
              "     <input type=\"file\" id=\"files-8e17d43a-6923-44e9-a439-dd9f87e95cef\" name=\"files[]\" multiple disabled\n",
              "        style=\"border:none\" />\n",
              "     <output id=\"result-8e17d43a-6923-44e9-a439-dd9f87e95cef\">\n",
              "      Upload widget is only available when the cell has been executed in the\n",
              "      current browser session. Please rerun this cell to enable.\n",
              "      </output>\n",
              "      <script src=\"/nbextensions/google.colab/files.js\"></script> "
            ]
          },
          "metadata": {}
        },
        {
          "output_type": "stream",
          "name": "stdout",
          "text": [
            "Saving kaggle.json to kaggle.json\n"
          ]
        },
        {
          "output_type": "execute_result",
          "data": {
            "text/plain": [
              "{'kaggle.json': b'{\"username\":\"zefraalseif\",\"key\":\"4d760edb603221467e663ad64da78007\"}'}"
            ]
          },
          "metadata": {},
          "execution_count": 2
        }
      ]
    },
    {
      "cell_type": "markdown",
      "source": [
        "# Removing/Creating Directory for Kaggle\n"
      ],
      "metadata": {
        "id": "WIDMvWvZ6EpH"
      }
    },
    {
      "cell_type": "code",
      "source": [
        "!rm -r ~/.kaggle/\n",
        "!mkdir ~/.kaggle\n",
        "!cp kaggle.json ~/.kaggle/\n",
        "!chmod 600 ~/.kaggle/kaggle.json"
      ],
      "metadata": {
        "id": "EkVXR7G_6M8o",
        "colab": {
          "base_uri": "https://localhost:8080/"
        },
        "outputId": "f98787fb-b62b-452f-9854-6dc05ab8bc0a"
      },
      "execution_count": null,
      "outputs": [
        {
          "output_type": "stream",
          "name": "stdout",
          "text": [
            "rm: cannot remove '/root/.kaggle/': No such file or directory\n"
          ]
        }
      ]
    },
    {
      "cell_type": "markdown",
      "source": [
        "# Importing Dataset"
      ],
      "metadata": {
        "id": "1Oqqt_Vo6ayn"
      }
    },
    {
      "cell_type": "code",
      "source": [
        "!kaggle datasets download -d ashishsaxena2209/animal-image-datasetdog-cat-and-panda"
      ],
      "metadata": {
        "id": "Z9oJx1fj6e_7",
        "colab": {
          "base_uri": "https://localhost:8080/"
        },
        "outputId": "44b23a39-4633-4837-8a1c-4f94a63c6442"
      },
      "execution_count": null,
      "outputs": [
        {
          "output_type": "stream",
          "name": "stdout",
          "text": [
            "Downloading animal-image-datasetdog-cat-and-panda.zip to /content\n",
            " 93% 351M/376M [00:01<00:00, 275MB/s]\n",
            "100% 376M/376M [00:01<00:00, 281MB/s]\n"
          ]
        }
      ]
    },
    {
      "cell_type": "markdown",
      "source": [
        "# Unzipping Dataset"
      ],
      "metadata": {
        "id": "xpAQqFE465C8"
      }
    },
    {
      "cell_type": "code",
      "source": [
        "!unzip -qq animal-image-datasetdog-cat-and-panda.zip"
      ],
      "metadata": {
        "id": "0-NzlHtm68vb"
      },
      "execution_count": null,
      "outputs": []
    },
    {
      "cell_type": "markdown",
      "source": [
        "# New Directory Structure"
      ],
      "metadata": {
        "id": "9gB37dZB73ml"
      }
    },
    {
      "cell_type": "code",
      "source": [
        "original_dir = pathlib.Path('animals')\n",
        "new_base_dir = pathlib.Path('newanim')\n",
        "\n",
        "def make_subset(subset_name, start_index, end_index):\n",
        "  for category in ('cats','dogs','panda'):\n",
        "    dir = new_base_dir / subset_name / category\n",
        "    dirsrc = original_dir / category\n",
        "    os.makedirs(dir)\n",
        "    fnames = ['{}_{:05d}.jpg'.format(category,i) for i in range (start_index, end_index)]\n",
        "    for fname in fnames:\n",
        "      shutil.copyfile(src=dirsrc / fname , dst = dir / fname)\n",
        "\n",
        "make_subset('train', start_index=1, end_index=701)\n",
        "make_subset('validation', start_index=701, end_index=901)\n",
        "make_subset('test', start_index=901,end_index=1001) "
      ],
      "metadata": {
        "id": "iULy58JB8DEG"
      },
      "execution_count": null,
      "outputs": []
    },
    {
      "cell_type": "markdown",
      "source": [
        "# Remove the Dog DIrectories"
      ],
      "metadata": {
        "id": "u7QEMoZlHIU7"
      }
    },
    {
      "cell_type": "code",
      "source": [
        "!rm -r ./newanim/train/dogs/\n",
        "!rm -r ./newanim/validation/dogs/\n",
        "!rm -r ./newanim/test/dogs/"
      ],
      "metadata": {
        "id": "VwyqRWbtHNqO"
      },
      "execution_count": null,
      "outputs": []
    },
    {
      "cell_type": "markdown",
      "metadata": {
        "id": "wK_LIeZaAe9R"
      },
      "source": [
        "# Creating TensorFlow Dataset"
      ]
    },
    {
      "cell_type": "code",
      "execution_count": null,
      "metadata": {
        "id": "lhOn7JyHAigX",
        "colab": {
          "base_uri": "https://localhost:8080/"
        },
        "outputId": "97a14a70-26bf-41b0-b835-599cab51a5d2"
      },
      "outputs": [
        {
          "output_type": "stream",
          "name": "stdout",
          "text": [
            "Found 1400 files belonging to 2 classes.\n",
            "Found 400 files belonging to 2 classes.\n",
            "Found 200 files belonging to 2 classes.\n"
          ]
        }
      ],
      "source": [
        "train_dataset = image_dataset_from_directory(\n",
        "    new_base_dir / 'train',\n",
        "    image_size = (180,180),\n",
        "    batch_size = 32)\n",
        "valdiation_dataset = image_dataset_from_directory(\n",
        "    new_base_dir / 'validation',\n",
        "    image_size = (180,180),\n",
        "    batch_size = 32)\n",
        "test_dataset = image_dataset_from_directory(\n",
        "    new_base_dir / 'test',\n",
        "    image_size = (180,180),\n",
        "    batch_size = 32)"
      ]
    },
    {
      "cell_type": "markdown",
      "metadata": {
        "id": "sk_o0ygBBk57"
      },
      "source": [
        "# Displaying shape of Dataset"
      ]
    },
    {
      "cell_type": "code",
      "execution_count": null,
      "metadata": {
        "id": "U4-684R_Bq_F",
        "colab": {
          "base_uri": "https://localhost:8080/"
        },
        "outputId": "3586500c-340a-49dd-d483-b5d0df109477"
      },
      "outputs": [
        {
          "output_type": "stream",
          "name": "stdout",
          "text": [
            "data batch shape: (32, 180, 180, 3)\n",
            "labels batch shape: (32,)\n"
          ]
        }
      ],
      "source": [
        "for data_batch, labels_batch in train_dataset:\n",
        "  print(\"data batch shape:\", data_batch.shape)\n",
        "  print(\"labels batch shape:\", labels_batch.shape)\n",
        "  break"
      ]
    },
    {
      "cell_type": "markdown",
      "metadata": {
        "id": "DtYypP2gCQvZ"
      },
      "source": [
        "# CNN Model Panda vs Cat (pvcm1)"
      ]
    },
    {
      "cell_type": "code",
      "execution_count": null,
      "metadata": {
        "id": "IDV8NY5mCHtC",
        "colab": {
          "base_uri": "https://localhost:8080/"
        },
        "outputId": "580c7527-29da-4bf3-ada2-dc19b9e309e9"
      },
      "outputs": [
        {
          "output_type": "stream",
          "name": "stdout",
          "text": [
            "Model: \"model_8\"\n",
            "_________________________________________________________________\n",
            " Layer (type)                Output Shape              Param #   \n",
            "=================================================================\n",
            " input_9 (InputLayer)        [(None, 180, 180, 3)]     0         \n",
            "                                                                 \n",
            " rescaling_8 (Rescaling)     (None, 180, 180, 3)       0         \n",
            "                                                                 \n",
            " conv2d_40 (Conv2D)          (None, 178, 178, 32)      896       \n",
            "                                                                 \n",
            " max_pooling2d_32 (MaxPoolin  (None, 89, 89, 32)       0         \n",
            " g2D)                                                            \n",
            "                                                                 \n",
            " conv2d_41 (Conv2D)          (None, 87, 87, 64)        18496     \n",
            "                                                                 \n",
            " max_pooling2d_33 (MaxPoolin  (None, 43, 43, 64)       0         \n",
            " g2D)                                                            \n",
            "                                                                 \n",
            " conv2d_42 (Conv2D)          (None, 41, 41, 128)       73856     \n",
            "                                                                 \n",
            " max_pooling2d_34 (MaxPoolin  (None, 20, 20, 128)      0         \n",
            " g2D)                                                            \n",
            "                                                                 \n",
            " conv2d_43 (Conv2D)          (None, 18, 18, 256)       295168    \n",
            "                                                                 \n",
            " max_pooling2d_35 (MaxPoolin  (None, 9, 9, 256)        0         \n",
            " g2D)                                                            \n",
            "                                                                 \n",
            " conv2d_44 (Conv2D)          (None, 7, 7, 256)         590080    \n",
            "                                                                 \n",
            " flatten_8 (Flatten)         (None, 12544)             0         \n",
            "                                                                 \n",
            " dense_8 (Dense)             (None, 1)                 12545     \n",
            "                                                                 \n",
            "=================================================================\n",
            "Total params: 991,041\n",
            "Trainable params: 991,041\n",
            "Non-trainable params: 0\n",
            "_________________________________________________________________\n"
          ]
        }
      ],
      "source": [
        "inputs = keras.Input(shape=(180, 180, 3))\n",
        "x = layers.Rescaling(1./255)(inputs)\n",
        "x = layers.Conv2D(filters=32, kernel_size=3,activation=\"relu\")(x)\n",
        "x = layers.MaxPooling2D(pool_size=2)(x)\n",
        "x = layers.Conv2D(filters=64, kernel_size=3, activation=\"relu\")(x)\n",
        "x = layers.MaxPooling2D(pool_size=2)(x)\n",
        "x = layers.Conv2D(filters=128, kernel_size=3, activation=\"relu\")(x)\n",
        "x = layers.MaxPooling2D(pool_size=2)(x)\n",
        "x = layers.Conv2D(filters=256, kernel_size=3, activation=\"relu\")(x)\n",
        "x = layers.MaxPooling2D(pool_size=2)(x)\n",
        "x = layers.Conv2D(filters=256, kernel_size=3, activation=\"relu\")(x)\n",
        "x = layers.Flatten()(x)\n",
        "outputs = layers.Dense(1, activation=\"sigmoid\")(x)\n",
        "pvcm1 = keras.Model(inputs=inputs, outputs=outputs)\n",
        "\n",
        "pvcm1.summary()"
      ]
    },
    {
      "cell_type": "markdown",
      "metadata": {
        "id": "NDMb8L3YCnsJ"
      },
      "source": [
        "## Configure Model for Training"
      ]
    },
    {
      "cell_type": "code",
      "execution_count": null,
      "metadata": {
        "id": "UgDdTd4pCvcv"
      },
      "outputs": [],
      "source": [
        "pvcm1.compile(loss = \"binary_crossentropy\", optimizer=\"rmsprop\", metrics=[\"accuracy\"])"
      ]
    },
    {
      "cell_type": "markdown",
      "metadata": {
        "id": "uqWtd2rMDDGc"
      },
      "source": [
        "## Fitting the Model using a Dataset"
      ]
    },
    {
      "cell_type": "code",
      "execution_count": null,
      "metadata": {
        "id": "K8wotYLoDIJz",
        "colab": {
          "base_uri": "https://localhost:8080/"
        },
        "outputId": "fbbd282b-9272-4ec1-9cd8-81f374c91bbf"
      },
      "outputs": [
        {
          "output_type": "stream",
          "name": "stdout",
          "text": [
            "Epoch 1/11\n",
            "44/44 [==============================] - 4s 75ms/step - loss: 0.6602 - accuracy: 0.6614 - val_loss: 0.4043 - val_accuracy: 0.8150\n",
            "Epoch 2/11\n",
            "44/44 [==============================] - 4s 71ms/step - loss: 0.3809 - accuracy: 0.8386 - val_loss: 0.4951 - val_accuracy: 0.7050\n",
            "Epoch 3/11\n",
            "44/44 [==============================] - 4s 72ms/step - loss: 0.3106 - accuracy: 0.8907 - val_loss: 0.3829 - val_accuracy: 0.8525\n",
            "Epoch 4/11\n",
            "44/44 [==============================] - 4s 73ms/step - loss: 0.2781 - accuracy: 0.9057 - val_loss: 0.1847 - val_accuracy: 0.9275\n",
            "Epoch 5/11\n",
            "44/44 [==============================] - 4s 72ms/step - loss: 0.2475 - accuracy: 0.9093 - val_loss: 0.2636 - val_accuracy: 0.8900\n",
            "Epoch 6/11\n",
            "44/44 [==============================] - 4s 72ms/step - loss: 0.1999 - accuracy: 0.9250 - val_loss: 0.3426 - val_accuracy: 0.8825\n",
            "Epoch 7/11\n",
            "44/44 [==============================] - 4s 72ms/step - loss: 0.1699 - accuracy: 0.9386 - val_loss: 0.2587 - val_accuracy: 0.9000\n",
            "Epoch 8/11\n",
            "44/44 [==============================] - 4s 73ms/step - loss: 0.2088 - accuracy: 0.9343 - val_loss: 0.2084 - val_accuracy: 0.9175\n",
            "Epoch 9/11\n",
            "44/44 [==============================] - 4s 71ms/step - loss: 0.1466 - accuracy: 0.9486 - val_loss: 0.2079 - val_accuracy: 0.9350\n",
            "Epoch 10/11\n",
            "44/44 [==============================] - 4s 72ms/step - loss: 0.1328 - accuracy: 0.9614 - val_loss: 0.2326 - val_accuracy: 0.9250\n",
            "Epoch 11/11\n",
            "44/44 [==============================] - 4s 72ms/step - loss: 0.1653 - accuracy: 0.9543 - val_loss: 0.2394 - val_accuracy: 0.9125\n"
          ]
        }
      ],
      "source": [
        "callbacks = [\n",
        "    keras.callbacks.ModelCheckpoint(\n",
        "        filepath=\"pvcm1.h5\",\n",
        "        save_best_only = True,\n",
        "        monitor = \"val_loss\")\n",
        "]\n",
        "\n",
        "history1 = pvcm1.fit(\n",
        "    train_dataset,\n",
        "    epochs = 11,\n",
        "    validation_data = valdiation_dataset,\n",
        "    callbacks = callbacks\n",
        ")"
      ]
    },
    {
      "cell_type": "markdown",
      "metadata": {
        "id": "QAyGQ1ltEcj3"
      },
      "source": [
        "## Displaying Curves of Loss and Accuracy during Training"
      ]
    },
    {
      "cell_type": "code",
      "execution_count": null,
      "metadata": {
        "id": "_ZSFg8FbEkvf",
        "colab": {
          "base_uri": "https://localhost:8080/",
          "height": 614
        },
        "outputId": "ea562472-d169-4d5b-ebde-54ef2b8e3674"
      },
      "outputs": [
        {
          "output_type": "display_data",
          "data": {
            "text/plain": [
              "<Figure size 432x288 with 1 Axes>"
            ],
            "image/png": "[encoded data removed]"
          },
          "metadata": {
            "needs_background": "light"
          }
        },
        {
          "output_type": "display_data",
          "data": {
            "text/plain": [
              "<Figure size 432x288 with 1 Axes>"
            ],
            "image/png": "[encoded data removed]"
          },
          "metadata": {
            "needs_background": "light"
          }
        },
        {
          "output_type": "stream",
          "name": "stdout",
          "text": [
            "Final Training loss:  0.16530783474445343 \n",
            "Final Training Accuracy:  0.954285740852356\n",
            "Final Validation loss:  0.23942400515079498 \n",
            "Final Validation Accuracy:  0.9125000238418579\n"
          ]
        }
      ],
      "source": [
        "accuracy = history1.history[\"accuracy\"]\n",
        "val_accuracy = history1.history[\"val_accuracy\"]\n",
        "loss = history1.history[\"loss\"]\n",
        "val_loss = history1.history[\"val_loss\"]\n",
        "epochs = range(1, len(accuracy) + 1)\n",
        "plt.plot(epochs, accuracy, \"bo\", label=\"Training accuracy\")\n",
        "plt.plot(epochs, val_accuracy, \"b\", label=\"Validation accuracy\")\n",
        "plt.title(\"Training and validation accuracy\")\n",
        "plt.legend()\n",
        "plt.figure()\n",
        "plt.plot(epochs, loss, \"bo\", label=\"Training loss\")\n",
        "plt.plot(epochs, val_loss, \"b\", label=\"Validation loss\")\n",
        "plt.title(\"Training and validation loss\")\n",
        "plt.legend()\n",
        "plt.show()\n",
        "# Final Values\n",
        "print(\"Final Training loss: \",history1.history['loss'][-1],\"\\nFinal Training Accuracy: \", history1.history['accuracy'][-1])\n",
        "print(\"Final Validation loss: \",history1.history['val_loss'][-1],\"\\nFinal Validation Accuracy: \", history1.history['val_accuracy'][-1])"
      ]
    },
    {
      "cell_type": "markdown",
      "source": [
        "## Evaluate Model"
      ],
      "metadata": {
        "id": "v-4MszCbGvUW"
      }
    },
    {
      "cell_type": "code",
      "source": [
        "pvcm1.evaluate(test_dataset)"
      ],
      "metadata": {
        "id": "O9ZswXmHGxqw",
        "colab": {
          "base_uri": "https://localhost:8080/"
        },
        "outputId": "097de6a6-4669-4344-8de7-e84e3c00b555"
      },
      "execution_count": null,
      "outputs": [
        {
          "output_type": "stream",
          "name": "stdout",
          "text": [
            "7/7 [==============================] - 0s 12ms/step - loss: 0.3077 - accuracy: 0.9000\n"
          ]
        },
        {
          "output_type": "execute_result",
          "data": {
            "text/plain": [
              "[0.30769720673561096, 0.8999999761581421]"
            ]
          },
          "metadata": {},
          "execution_count": 56
        }
      ]
    },
    {
      "cell_type": "markdown",
      "metadata": {
        "id": "lmrK7Bu38eu2"
      },
      "source": [
        "# CNN Model 2 Panda vs Cat (w/L2) (pvcm2)"
      ]
    },
    {
      "cell_type": "code",
      "execution_count": null,
      "metadata": {
        "id": "jkGsMrd78eu2",
        "colab": {
          "base_uri": "https://localhost:8080/"
        },
        "outputId": "a626be97-daef-4e9b-eac7-960dc28d5763"
      },
      "outputs": [
        {
          "output_type": "stream",
          "name": "stdout",
          "text": [
            "Model: \"model_10\"\n",
            "_________________________________________________________________\n",
            " Layer (type)                Output Shape              Param #   \n",
            "=================================================================\n",
            " input_11 (InputLayer)       [(None, 180, 180, 3)]     0         \n",
            "                                                                 \n",
            " rescaling_10 (Rescaling)    (None, 180, 180, 3)       0         \n",
            "                                                                 \n",
            " conv2d_50 (Conv2D)          (None, 178, 178, 32)      896       \n",
            "                                                                 \n",
            " max_pooling2d_40 (MaxPoolin  (None, 89, 89, 32)       0         \n",
            " g2D)                                                            \n",
            "                                                                 \n",
            " dropout_15 (Dropout)        (None, 89, 89, 32)        0         \n",
            "                                                                 \n",
            " conv2d_51 (Conv2D)          (None, 87, 87, 64)        18496     \n",
            "                                                                 \n",
            " max_pooling2d_41 (MaxPoolin  (None, 43, 43, 64)       0         \n",
            " g2D)                                                            \n",
            "                                                                 \n",
            " dropout_16 (Dropout)        (None, 43, 43, 64)        0         \n",
            "                                                                 \n",
            " conv2d_52 (Conv2D)          (None, 41, 41, 128)       73856     \n",
            "                                                                 \n",
            " max_pooling2d_42 (MaxPoolin  (None, 20, 20, 128)      0         \n",
            " g2D)                                                            \n",
            "                                                                 \n",
            " dropout_17 (Dropout)        (None, 20, 20, 128)       0         \n",
            "                                                                 \n",
            " conv2d_53 (Conv2D)          (None, 18, 18, 256)       295168    \n",
            "                                                                 \n",
            " max_pooling2d_43 (MaxPoolin  (None, 9, 9, 256)        0         \n",
            " g2D)                                                            \n",
            "                                                                 \n",
            " dropout_18 (Dropout)        (None, 9, 9, 256)         0         \n",
            "                                                                 \n",
            " conv2d_54 (Conv2D)          (None, 7, 7, 256)         590080    \n",
            "                                                                 \n",
            " flatten_10 (Flatten)        (None, 12544)             0         \n",
            "                                                                 \n",
            " dropout_19 (Dropout)        (None, 12544)             0         \n",
            "                                                                 \n",
            " dense_10 (Dense)            (None, 1)                 12545     \n",
            "                                                                 \n",
            "=================================================================\n",
            "Total params: 991,041\n",
            "Trainable params: 991,041\n",
            "Non-trainable params: 0\n",
            "_________________________________________________________________\n"
          ]
        }
      ],
      "source": [
        "inputs = keras.Input(shape=(180, 180, 3))\n",
        "x = layers.Rescaling(1./255)(inputs)\n",
        "x = layers.Conv2D(filters=32, kernel_size=3, kernel_regularizer=regularizers.l2(.0001),activation=\"relu\")(x)\n",
        "x = layers.MaxPooling2D(pool_size=2)(x)\n",
        "x = layers.Dropout(.25)(x)\n",
        "x = layers.Conv2D(filters=64, kernel_size=3, kernel_regularizer=regularizers.l2(.0001),activation=\"relu\")(x)\n",
        "x = layers.MaxPooling2D(pool_size=2)(x)\n",
        "x = layers.Dropout(.25)(x)\n",
        "x = layers.Conv2D(filters=128, kernel_size=3, kernel_regularizer=regularizers.l2(.0001),activation=\"relu\")(x)\n",
        "x = layers.MaxPooling2D(pool_size=2)(x)\n",
        "x = layers.Dropout(.25)(x)\n",
        "x = layers.Conv2D(filters=256, kernel_size=3, kernel_regularizer=regularizers.l2(.0001),activation=\"relu\")(x)\n",
        "x = layers.MaxPooling2D(pool_size=2)(x)\n",
        "x = layers.Dropout(.25)(x)\n",
        "x = layers.Conv2D(filters=256, kernel_size=3, kernel_regularizer=regularizers.l2(.0001),activation=\"relu\")(x)\n",
        "x = layers.Flatten()(x)\n",
        "x = layers.Dropout(.25)(x)\n",
        "outputs = layers.Dense(1, activation=\"sigmoid\")(x)\n",
        "pvcm2 = keras.Model(inputs=inputs, outputs=outputs)\n",
        "\n",
        "pvcm2.summary()"
      ]
    },
    {
      "cell_type": "markdown",
      "metadata": {
        "id": "kgZks_pz8eu3"
      },
      "source": [
        "## Configure Model for Training"
      ]
    },
    {
      "cell_type": "code",
      "execution_count": null,
      "metadata": {
        "id": "uFOTtCq88eu3"
      },
      "outputs": [],
      "source": [
        "pvcm2.compile(loss = \"binary_crossentropy\", optimizer=\"rmsprop\", metrics=[\"accuracy\"])"
      ]
    },
    {
      "cell_type": "markdown",
      "metadata": {
        "id": "SATmMmBp8eu3"
      },
      "source": [
        "## Fitting the Model using a Dataset"
      ]
    },
    {
      "cell_type": "code",
      "execution_count": null,
      "metadata": {
        "id": "6EgXAHUz8eu3",
        "colab": {
          "base_uri": "https://localhost:8080/"
        },
        "outputId": "c90b10c7-017d-4b5a-9386-5ebe9e747eb1"
      },
      "outputs": [
        {
          "output_type": "stream",
          "name": "stdout",
          "text": [
            "Epoch 1/14\n",
            "44/44 [==============================] - 5s 79ms/step - loss: 0.7588 - accuracy: 0.6879 - val_loss: 0.5098 - val_accuracy: 0.8375\n",
            "Epoch 2/14\n",
            "44/44 [==============================] - 4s 77ms/step - loss: 0.4986 - accuracy: 0.8014 - val_loss: 0.4564 - val_accuracy: 0.8850\n",
            "Epoch 3/14\n",
            "44/44 [==============================] - 4s 77ms/step - loss: 0.3999 - accuracy: 0.8607 - val_loss: 0.4367 - val_accuracy: 0.8475\n",
            "Epoch 4/14\n",
            "44/44 [==============================] - 4s 76ms/step - loss: 0.3438 - accuracy: 0.8771 - val_loss: 0.2931 - val_accuracy: 0.8925\n",
            "Epoch 5/14\n",
            "44/44 [==============================] - 4s 77ms/step - loss: 0.2792 - accuracy: 0.8993 - val_loss: 0.2765 - val_accuracy: 0.9350\n",
            "Epoch 6/14\n",
            "44/44 [==============================] - 4s 75ms/step - loss: 0.3058 - accuracy: 0.9100 - val_loss: 0.4482 - val_accuracy: 0.8175\n",
            "Epoch 7/14\n",
            "44/44 [==============================] - 4s 76ms/step - loss: 0.2177 - accuracy: 0.9250 - val_loss: 0.1992 - val_accuracy: 0.9475\n",
            "Epoch 8/14\n",
            "44/44 [==============================] - 4s 76ms/step - loss: 0.2756 - accuracy: 0.9286 - val_loss: 0.2354 - val_accuracy: 0.9200\n",
            "Epoch 9/14\n",
            "44/44 [==============================] - 4s 75ms/step - loss: 0.2160 - accuracy: 0.9336 - val_loss: 0.3252 - val_accuracy: 0.8675\n",
            "Epoch 10/14\n",
            "44/44 [==============================] - 4s 74ms/step - loss: 0.2659 - accuracy: 0.9250 - val_loss: 0.2341 - val_accuracy: 0.9300\n",
            "Epoch 11/14\n",
            "44/44 [==============================] - 4s 74ms/step - loss: 0.1469 - accuracy: 0.9579 - val_loss: 0.1830 - val_accuracy: 0.9375\n",
            "Epoch 12/14\n",
            "44/44 [==============================] - 4s 75ms/step - loss: 0.1759 - accuracy: 0.9443 - val_loss: 0.2483 - val_accuracy: 0.9175\n",
            "Epoch 13/14\n",
            "44/44 [==============================] - 4s 74ms/step - loss: 0.1724 - accuracy: 0.9579 - val_loss: 0.1654 - val_accuracy: 0.9500\n",
            "Epoch 14/14\n",
            "44/44 [==============================] - 4s 75ms/step - loss: 0.1495 - accuracy: 0.9557 - val_loss: 0.2074 - val_accuracy: 0.9325\n"
          ]
        }
      ],
      "source": [
        "callbacks = [\n",
        "    keras.callbacks.ModelCheckpoint(\n",
        "        filepath=\"pvcm2.h5\",\n",
        "        save_best_only = True,\n",
        "        monitor = \"val_loss\")\n",
        "]\n",
        "\n",
        "history2 = pvcm2.fit(\n",
        "    train_dataset,\n",
        "    epochs = 14,\n",
        "    validation_data = valdiation_dataset,\n",
        "    callbacks = callbacks\n",
        "\n",
        ")"
      ]
    },
    {
      "cell_type": "markdown",
      "metadata": {
        "id": "x78JgR2m8eu3"
      },
      "source": [
        "## Displaying Curves of Loss and Accuracy during Training"
      ]
    },
    {
      "cell_type": "code",
      "execution_count": null,
      "metadata": {
        "id": "1Oy5xQEp8eu5",
        "colab": {
          "base_uri": "https://localhost:8080/",
          "height": 614
        },
        "outputId": "563b712e-862f-4a44-9882-c0942480b6ab"
      },
      "outputs": [
        {
          "output_type": "display_data",
          "data": {
            "text/plain": [
              "<Figure size 432x288 with 1 Axes>"
            ],
            "image/png": "[encoded data removed]"
          },
          "metadata": {
            "needs_background": "light"
          }
        },
        {
          "output_type": "display_data",
          "data": {
            "text/plain": [
              "<Figure size 432x288 with 1 Axes>"
            ],
            "image/png": "[encoded data removed]"
          },
          "metadata": {
            "needs_background": "light"
          }
        },
        {
          "output_type": "stream",
          "name": "stdout",
          "text": [
            "Final Training loss:  0.14952512085437775 \n",
            "Final Training Accuracy:  0.9557142853736877\n",
            "Final Validation loss:  0.20736859738826752 \n",
            "Final Validation Accuracy:  0.9325000047683716\n"
          ]
        }
      ],
      "source": [
        "accuracy = history2.history[\"accuracy\"]\n",
        "val_accuracy = history2.history[\"val_accuracy\"]\n",
        "loss = history2.history[\"loss\"]\n",
        "val_loss = history2.history[\"val_loss\"]\n",
        "epochs = range(1, len(accuracy) + 1)\n",
        "plt.plot(epochs, accuracy, \"bo\", label=\"Training accuracy\")\n",
        "plt.plot(epochs, val_accuracy, \"b\", label=\"Validation accuracy\")\n",
        "plt.title(\"Training and validation accuracy\")\n",
        "plt.legend()\n",
        "plt.figure()\n",
        "plt.plot(epochs, loss, \"bo\", label=\"Training loss\")\n",
        "plt.plot(epochs, val_loss, \"b\", label=\"Validation loss\")\n",
        "plt.title(\"Training and validation loss\")\n",
        "plt.legend()\n",
        "plt.show()\n",
        "# Final Values\n",
        "print(\"Final Training loss: \",history2.history['loss'][-1],\"\\nFinal Training Accuracy: \", history2.history['accuracy'][-1])\n",
        "print(\"Final Validation loss: \",history2.history['val_loss'][-1],\"\\nFinal Validation Accuracy: \", history2.history['val_accuracy'][-1])"
      ]
    },
    {
      "cell_type": "markdown",
      "source": [
        "## Evaluate Model"
      ],
      "metadata": {
        "id": "XgZHcwFPGnN9"
      }
    },
    {
      "cell_type": "code",
      "source": [
        "pvcm2.evaluate(test_dataset)"
      ],
      "metadata": {
        "id": "7-oTBRSmGpvm",
        "colab": {
          "base_uri": "https://localhost:8080/"
        },
        "outputId": "4647dd86-f1a5-4c1f-b6c1-50a92fb1cc8d"
      },
      "execution_count": null,
      "outputs": [
        {
          "output_type": "stream",
          "name": "stdout",
          "text": [
            "7/7 [==============================] - 0s 12ms/step - loss: 0.2329 - accuracy: 0.9300\n"
          ]
        },
        {
          "output_type": "execute_result",
          "data": {
            "text/plain": [
              "[0.23292145133018494, 0.9300000071525574]"
            ]
          },
          "metadata": {},
          "execution_count": 66
        }
      ]
    },
    {
      "cell_type": "markdown",
      "metadata": {
        "id": "D85mdmbiMd6B"
      },
      "source": [
        "# CNN Model 3 Panda vs Cat (w/Data Augmentation) (pvcm3)"
      ]
    },
    {
      "cell_type": "code",
      "execution_count": null,
      "metadata": {
        "id": "T0rEVP4TMd6D",
        "colab": {
          "base_uri": "https://localhost:8080/"
        },
        "outputId": "44610640-7bd8-4f2b-bd03-0f1179355abb"
      },
      "outputs": [
        {
          "output_type": "stream",
          "name": "stdout",
          "text": [
            "Model: \"model_11\"\n",
            "_________________________________________________________________\n",
            " Layer (type)                Output Shape              Param #   \n",
            "=================================================================\n",
            " input_12 (InputLayer)       [(None, 180, 180, 3)]     0         \n",
            "                                                                 \n",
            " sequential_1 (Sequential)   (None, 180, 180, 3)       0         \n",
            "                                                                 \n",
            " rescaling_11 (Rescaling)    (None, 180, 180, 3)       0         \n",
            "                                                                 \n",
            " conv2d_55 (Conv2D)          (None, 178, 178, 32)      896       \n",
            "                                                                 \n",
            " max_pooling2d_44 (MaxPoolin  (None, 89, 89, 32)       0         \n",
            " g2D)                                                            \n",
            "                                                                 \n",
            " dropout_20 (Dropout)        (None, 89, 89, 32)        0         \n",
            "                                                                 \n",
            " conv2d_56 (Conv2D)          (None, 87, 87, 64)        18496     \n",
            "                                                                 \n",
            " max_pooling2d_45 (MaxPoolin  (None, 43, 43, 64)       0         \n",
            " g2D)                                                            \n",
            "                                                                 \n",
            " dropout_21 (Dropout)        (None, 43, 43, 64)        0         \n",
            "                                                                 \n",
            " conv2d_57 (Conv2D)          (None, 41, 41, 128)       73856     \n",
            "                                                                 \n",
            " max_pooling2d_46 (MaxPoolin  (None, 20, 20, 128)      0         \n",
            " g2D)                                                            \n",
            "                                                                 \n",
            " dropout_22 (Dropout)        (None, 20, 20, 128)       0         \n",
            "                                                                 \n",
            " conv2d_58 (Conv2D)          (None, 18, 18, 256)       295168    \n",
            "                                                                 \n",
            " max_pooling2d_47 (MaxPoolin  (None, 9, 9, 256)        0         \n",
            " g2D)                                                            \n",
            "                                                                 \n",
            " dropout_23 (Dropout)        (None, 9, 9, 256)         0         \n",
            "                                                                 \n",
            " conv2d_59 (Conv2D)          (None, 7, 7, 256)         590080    \n",
            "                                                                 \n",
            " flatten_11 (Flatten)        (None, 12544)             0         \n",
            "                                                                 \n",
            " dropout_24 (Dropout)        (None, 12544)             0         \n",
            "                                                                 \n",
            " dense_11 (Dense)            (None, 1)                 12545     \n",
            "                                                                 \n",
            "=================================================================\n",
            "Total params: 991,041\n",
            "Trainable params: 991,041\n",
            "Non-trainable params: 0\n",
            "_________________________________________________________________\n"
          ]
        }
      ],
      "source": [
        "data_augmentation = keras.Sequential(\n",
        "    [\n",
        "      layers.RandomFlip(\"horizontal\"),\n",
        "      layers.RandomRotation(.1),\n",
        "      layers.RandomZoom(.2)\n",
        "    ]\n",
        ")\n",
        "\n",
        "inputs = keras.Input(shape=(180, 180, 3))\n",
        "x = data_augmentation(inputs)\n",
        "x = layers.Rescaling(1./255)(x)\n",
        "x = layers.Conv2D(filters=32, kernel_size=3, kernel_regularizer=regularizers.l2(.0001),activation=\"relu\")(x)\n",
        "x = layers.MaxPooling2D(pool_size=2)(x)\n",
        "x = layers.Dropout(.15)(x)\n",
        "x = layers.Conv2D(filters=64, kernel_size=3, kernel_regularizer=regularizers.l2(.0001),activation=\"relu\")(x)\n",
        "x = layers.MaxPooling2D(pool_size=2)(x)\n",
        "x = layers.Dropout(.25)(x)\n",
        "x = layers.Conv2D(filters=128, kernel_size=3, kernel_regularizer=regularizers.l2(.0001),activation=\"relu\")(x)\n",
        "x = layers.MaxPooling2D(pool_size=2)(x)\n",
        "x = layers.Dropout(.5)(x)\n",
        "x = layers.Conv2D(filters=256, kernel_size=3, kernel_regularizer=regularizers.l2(.0001),activation=\"relu\")(x)\n",
        "x = layers.MaxPooling2D(pool_size=2)(x)\n",
        "x = layers.Dropout(.25)(x)\n",
        "x = layers.Conv2D(filters=256, kernel_size=3, kernel_regularizer=regularizers.l2(.0001),activation=\"relu\")(x)\n",
        "x = layers.Flatten()(x)\n",
        "x = layers.Dropout(.25)(x)\n",
        "outputs = layers.Dense(1, activation=\"sigmoid\")(x)\n",
        "pvcm3 = keras.Model(inputs=inputs, outputs=outputs)\n",
        "\n",
        "pvcm3.summary()"
      ]
    },
    {
      "cell_type": "markdown",
      "metadata": {
        "id": "tZDTJxIfMd6F"
      },
      "source": [
        "## Configure Model for Training"
      ]
    },
    {
      "cell_type": "code",
      "execution_count": null,
      "metadata": {
        "id": "eOKi0zZOMd6F"
      },
      "outputs": [],
      "source": [
        "pvcm3.compile(loss = \"binary_crossentropy\", optimizer=\"rmsprop\", metrics=[\"accuracy\"])"
      ]
    },
    {
      "cell_type": "markdown",
      "metadata": {
        "id": "g5O2hZmXMd6G"
      },
      "source": [
        "## Fitting the Model using a Dataset"
      ]
    },
    {
      "cell_type": "code",
      "execution_count": null,
      "metadata": {
        "id": "28ak7Gk3Md6H",
        "colab": {
          "base_uri": "https://localhost:8080/"
        },
        "outputId": "d1468902-e8ba-4e1d-88d1-d49361e00887"
      },
      "outputs": [
        {
          "output_type": "stream",
          "name": "stdout",
          "text": [
            "Epoch 1/65\n",
            "44/44 [==============================] - 5s 82ms/step - loss: 0.7634 - accuracy: 0.6214 - val_loss: 0.6646 - val_accuracy: 0.7250\n",
            "Epoch 2/65\n",
            "44/44 [==============================] - 4s 79ms/step - loss: 0.5590 - accuracy: 0.7493 - val_loss: 0.5065 - val_accuracy: 0.8125\n",
            "Epoch 3/65\n",
            "44/44 [==============================] - 4s 79ms/step - loss: 0.4441 - accuracy: 0.8400 - val_loss: 0.3685 - val_accuracy: 0.8475\n",
            "Epoch 4/65\n",
            "44/44 [==============================] - 4s 77ms/step - loss: 0.4279 - accuracy: 0.8364 - val_loss: 0.4330 - val_accuracy: 0.8275\n",
            "Epoch 5/65\n",
            "44/44 [==============================] - 4s 77ms/step - loss: 0.3739 - accuracy: 0.8643 - val_loss: 0.2952 - val_accuracy: 0.8950\n",
            "Epoch 6/65\n",
            "44/44 [==============================] - 4s 77ms/step - loss: 0.3645 - accuracy: 0.8650 - val_loss: 0.2529 - val_accuracy: 0.9000\n",
            "Epoch 7/65\n",
            "44/44 [==============================] - 4s 76ms/step - loss: 0.3130 - accuracy: 0.8736 - val_loss: 0.4871 - val_accuracy: 0.8250\n",
            "Epoch 8/65\n",
            "44/44 [==============================] - 4s 76ms/step - loss: 0.3397 - accuracy: 0.8771 - val_loss: 0.3724 - val_accuracy: 0.8675\n",
            "Epoch 9/65\n",
            "44/44 [==============================] - 4s 78ms/step - loss: 0.3006 - accuracy: 0.8864 - val_loss: 0.2394 - val_accuracy: 0.9150\n",
            "Epoch 10/65\n",
            "44/44 [==============================] - 4s 77ms/step - loss: 0.2676 - accuracy: 0.9057 - val_loss: 0.2140 - val_accuracy: 0.9275\n",
            "Epoch 11/65\n",
            "44/44 [==============================] - 4s 77ms/step - loss: 0.3664 - accuracy: 0.8957 - val_loss: 0.2614 - val_accuracy: 0.9175\n",
            "Epoch 12/65\n",
            "44/44 [==============================] - 4s 79ms/step - loss: 0.2427 - accuracy: 0.9064 - val_loss: 0.3144 - val_accuracy: 0.8925\n",
            "Epoch 13/65\n",
            "44/44 [==============================] - 4s 90ms/step - loss: 0.2419 - accuracy: 0.9171 - val_loss: 0.1855 - val_accuracy: 0.9275\n",
            "Epoch 14/65\n",
            "44/44 [==============================] - 4s 77ms/step - loss: 0.2304 - accuracy: 0.9136 - val_loss: 0.1840 - val_accuracy: 0.9525\n",
            "Epoch 15/65\n",
            "44/44 [==============================] - 4s 76ms/step - loss: 0.2481 - accuracy: 0.9207 - val_loss: 0.1873 - val_accuracy: 0.9325\n",
            "Epoch 16/65\n",
            "44/44 [==============================] - 4s 75ms/step - loss: 0.2353 - accuracy: 0.9200 - val_loss: 0.2349 - val_accuracy: 0.9300\n",
            "Epoch 17/65\n",
            "44/44 [==============================] - 4s 76ms/step - loss: 0.2025 - accuracy: 0.9279 - val_loss: 0.2328 - val_accuracy: 0.9275\n",
            "Epoch 18/65\n",
            "44/44 [==============================] - 4s 78ms/step - loss: 0.2010 - accuracy: 0.9279 - val_loss: 0.2234 - val_accuracy: 0.9275\n",
            "Epoch 19/65\n",
            "44/44 [==============================] - 4s 77ms/step - loss: 0.2152 - accuracy: 0.9243 - val_loss: 0.1672 - val_accuracy: 0.9375\n",
            "Epoch 20/65\n",
            "44/44 [==============================] - 4s 78ms/step - loss: 0.1977 - accuracy: 0.9357 - val_loss: 0.1606 - val_accuracy: 0.9450\n",
            "Epoch 21/65\n",
            "44/44 [==============================] - 4s 77ms/step - loss: 0.2083 - accuracy: 0.9271 - val_loss: 0.6091 - val_accuracy: 0.8050\n",
            "Epoch 22/65\n",
            "44/44 [==============================] - 4s 78ms/step - loss: 0.2088 - accuracy: 0.9271 - val_loss: 0.2184 - val_accuracy: 0.9175\n",
            "Epoch 23/65\n",
            "44/44 [==============================] - 4s 76ms/step - loss: 0.2022 - accuracy: 0.9286 - val_loss: 0.2571 - val_accuracy: 0.9200\n",
            "Epoch 24/65\n",
            "44/44 [==============================] - 4s 76ms/step - loss: 0.2038 - accuracy: 0.9336 - val_loss: 0.1743 - val_accuracy: 0.9375\n",
            "Epoch 25/65\n",
            "44/44 [==============================] - 4s 79ms/step - loss: 0.1876 - accuracy: 0.9379 - val_loss: 0.2060 - val_accuracy: 0.9275\n",
            "Epoch 26/65\n",
            "44/44 [==============================] - 4s 77ms/step - loss: 0.1845 - accuracy: 0.9336 - val_loss: 0.2707 - val_accuracy: 0.9300\n",
            "Epoch 27/65\n",
            "44/44 [==============================] - 4s 77ms/step - loss: 0.1822 - accuracy: 0.9407 - val_loss: 0.2430 - val_accuracy: 0.9325\n",
            "Epoch 28/65\n",
            "44/44 [==============================] - 4s 77ms/step - loss: 0.1693 - accuracy: 0.9457 - val_loss: 0.2463 - val_accuracy: 0.9200\n",
            "Epoch 29/65\n",
            "44/44 [==============================] - 4s 77ms/step - loss: 0.1705 - accuracy: 0.9457 - val_loss: 0.2584 - val_accuracy: 0.9325\n",
            "Epoch 30/65\n",
            "44/44 [==============================] - 4s 76ms/step - loss: 0.1737 - accuracy: 0.9464 - val_loss: 0.2327 - val_accuracy: 0.9425\n",
            "Epoch 31/65\n",
            "44/44 [==============================] - 4s 78ms/step - loss: 0.1877 - accuracy: 0.9457 - val_loss: 0.2343 - val_accuracy: 0.9250\n",
            "Epoch 32/65\n",
            "44/44 [==============================] - 4s 77ms/step - loss: 0.1745 - accuracy: 0.9507 - val_loss: 0.2579 - val_accuracy: 0.9350\n",
            "Epoch 33/65\n",
            "44/44 [==============================] - 4s 79ms/step - loss: 0.1649 - accuracy: 0.9564 - val_loss: 0.2080 - val_accuracy: 0.9400\n",
            "Epoch 34/65\n",
            "44/44 [==============================] - 4s 76ms/step - loss: 0.1372 - accuracy: 0.9607 - val_loss: 1.0393 - val_accuracy: 0.7575\n",
            "Epoch 35/65\n",
            "44/44 [==============================] - 4s 77ms/step - loss: 0.1549 - accuracy: 0.9500 - val_loss: 0.9017 - val_accuracy: 0.6975\n",
            "Epoch 36/65\n",
            "44/44 [==============================] - 4s 76ms/step - loss: 0.1550 - accuracy: 0.9521 - val_loss: 0.3421 - val_accuracy: 0.9275\n",
            "Epoch 37/65\n",
            "44/44 [==============================] - 4s 77ms/step - loss: 0.1718 - accuracy: 0.9486 - val_loss: 0.1951 - val_accuracy: 0.9550\n",
            "Epoch 38/65\n",
            "44/44 [==============================] - 4s 77ms/step - loss: 0.1945 - accuracy: 0.9443 - val_loss: 0.1888 - val_accuracy: 0.9525\n",
            "Epoch 39/65\n",
            "44/44 [==============================] - 4s 79ms/step - loss: 0.1473 - accuracy: 0.9579 - val_loss: 0.1446 - val_accuracy: 0.9650\n",
            "Epoch 40/65\n",
            "44/44 [==============================] - 4s 77ms/step - loss: 0.1818 - accuracy: 0.9414 - val_loss: 0.1367 - val_accuracy: 0.9600\n",
            "Epoch 41/65\n",
            "44/44 [==============================] - 4s 76ms/step - loss: 0.1328 - accuracy: 0.9614 - val_loss: 0.3078 - val_accuracy: 0.9200\n",
            "Epoch 42/65\n",
            "44/44 [==============================] - 4s 76ms/step - loss: 0.1655 - accuracy: 0.9486 - val_loss: 0.1656 - val_accuracy: 0.9500\n",
            "Epoch 43/65\n",
            "44/44 [==============================] - 4s 78ms/step - loss: 0.1373 - accuracy: 0.9600 - val_loss: 0.2012 - val_accuracy: 0.9400\n",
            "Epoch 44/65\n",
            "44/44 [==============================] - 4s 76ms/step - loss: 0.1405 - accuracy: 0.9607 - val_loss: 0.1803 - val_accuracy: 0.9525\n",
            "Epoch 45/65\n",
            "44/44 [==============================] - 4s 77ms/step - loss: 0.1503 - accuracy: 0.9593 - val_loss: 0.2340 - val_accuracy: 0.9550\n",
            "Epoch 46/65\n",
            "44/44 [==============================] - 4s 77ms/step - loss: 0.1300 - accuracy: 0.9593 - val_loss: 0.1946 - val_accuracy: 0.9600\n",
            "Epoch 47/65\n",
            "44/44 [==============================] - 4s 77ms/step - loss: 0.1440 - accuracy: 0.9579 - val_loss: 0.2796 - val_accuracy: 0.9300\n",
            "Epoch 48/65\n",
            "44/44 [==============================] - 4s 75ms/step - loss: 0.1462 - accuracy: 0.9586 - val_loss: 0.2075 - val_accuracy: 0.9575\n",
            "Epoch 49/65\n",
            "44/44 [==============================] - 4s 76ms/step - loss: 0.1583 - accuracy: 0.9571 - val_loss: 0.3190 - val_accuracy: 0.9200\n",
            "Epoch 50/65\n",
            "44/44 [==============================] - 4s 76ms/step - loss: 0.1187 - accuracy: 0.9636 - val_loss: 0.2744 - val_accuracy: 0.9500\n",
            "Epoch 51/65\n",
            "44/44 [==============================] - 4s 77ms/step - loss: 0.1511 - accuracy: 0.9621 - val_loss: 0.4117 - val_accuracy: 0.8875\n",
            "Epoch 52/65\n",
            "44/44 [==============================] - 4s 77ms/step - loss: 0.1424 - accuracy: 0.9607 - val_loss: 0.2636 - val_accuracy: 0.9425\n",
            "Epoch 53/65\n",
            "44/44 [==============================] - 4s 79ms/step - loss: 0.1521 - accuracy: 0.9586 - val_loss: 0.2234 - val_accuracy: 0.9450\n",
            "Epoch 54/65\n",
            "44/44 [==============================] - 4s 77ms/step - loss: 0.1347 - accuracy: 0.9636 - val_loss: 0.1845 - val_accuracy: 0.9675\n",
            "Epoch 55/65\n",
            "44/44 [==============================] - 4s 77ms/step - loss: 0.1370 - accuracy: 0.9657 - val_loss: 0.2734 - val_accuracy: 0.9525\n",
            "Epoch 56/65\n",
            "44/44 [==============================] - 4s 76ms/step - loss: 0.1609 - accuracy: 0.9593 - val_loss: 0.1616 - val_accuracy: 0.9600\n",
            "Epoch 57/65\n",
            "44/44 [==============================] - 4s 78ms/step - loss: 0.1416 - accuracy: 0.9614 - val_loss: 0.2209 - val_accuracy: 0.9325\n",
            "Epoch 58/65\n",
            "44/44 [==============================] - 4s 76ms/step - loss: 0.1173 - accuracy: 0.9707 - val_loss: 0.2831 - val_accuracy: 0.9350\n",
            "Epoch 59/65\n",
            "44/44 [==============================] - 4s 76ms/step - loss: 0.1389 - accuracy: 0.9593 - val_loss: 0.7401 - val_accuracy: 0.7650\n",
            "Epoch 60/65\n",
            "44/44 [==============================] - 4s 77ms/step - loss: 0.1356 - accuracy: 0.9614 - val_loss: 0.1838 - val_accuracy: 0.9550\n",
            "Epoch 61/65\n",
            "44/44 [==============================] - 4s 78ms/step - loss: 0.1181 - accuracy: 0.9671 - val_loss: 0.2196 - val_accuracy: 0.9325\n",
            "Epoch 62/65\n",
            "44/44 [==============================] - 4s 76ms/step - loss: 0.1161 - accuracy: 0.9750 - val_loss: 0.2233 - val_accuracy: 0.9500\n",
            "Epoch 63/65\n",
            "44/44 [==============================] - 4s 79ms/step - loss: 0.1354 - accuracy: 0.9686 - val_loss: 0.1852 - val_accuracy: 0.9750\n",
            "Epoch 64/65\n",
            "44/44 [==============================] - 4s 77ms/step - loss: 0.1341 - accuracy: 0.9636 - val_loss: 0.1768 - val_accuracy: 0.9650\n",
            "Epoch 65/65\n",
            "44/44 [==============================] - 4s 77ms/step - loss: 0.1223 - accuracy: 0.9629 - val_loss: 0.3062 - val_accuracy: 0.9425\n"
          ]
        }
      ],
      "source": [
        "callbacks = [\n",
        "    keras.callbacks.ModelCheckpoint(\n",
        "        filepath=\"pvcm3.h5\",\n",
        "        save_best_only = True,\n",
        "        monitor = \"val_loss\")\n",
        "]\n",
        "\n",
        "history3 = pvcm3.fit(\n",
        "    train_dataset,\n",
        "    epochs = 65,\n",
        "    validation_data = valdiation_dataset,\n",
        "    callbacks = callbacks\n",
        "\n",
        ")"
      ]
    },
    {
      "cell_type": "markdown",
      "metadata": {
        "id": "H5DEOLHKMd6H"
      },
      "source": [
        "## Displaying Curves of Loss and Accuracy during Training"
      ]
    },
    {
      "cell_type": "code",
      "execution_count": null,
      "metadata": {
        "id": "IHs4lVeYMd6I",
        "colab": {
          "base_uri": "https://localhost:8080/",
          "height": 614
        },
        "outputId": "3cb519b1-fbcf-4291-e154-2418cda8c6da"
      },
      "outputs": [
        {
          "output_type": "display_data",
          "data": {
            "text/plain": [
              "<Figure size 432x288 with 1 Axes>"
            ],
            "image/png": "[encoded data removed]"
          },
          "metadata": {
            "needs_background": "light"
          }
        },
        {
          "output_type": "display_data",
          "data": {
            "text/plain": [
              "<Figure size 432x288 with 1 Axes>"
            ],
            "image/png": "[encoded data removed]"
          },
          "metadata": {
            "needs_background": "light"
          }
        },
        {
          "output_type": "stream",
          "name": "stdout",
          "text": [
            "Final Training loss:  0.12229102849960327 \n",
            "Final Training Accuracy:  0.9628571271896362\n",
            "Final Validation loss:  0.30623793601989746 \n",
            "Final Validation Accuracy:  0.9424999952316284\n"
          ]
        }
      ],
      "source": [
        "accuracy = history3.history[\"accuracy\"]\n",
        "val_accuracy = history3.history[\"val_accuracy\"]\n",
        "loss = history3.history[\"loss\"]\n",
        "val_loss = history3.history[\"val_loss\"]\n",
        "epochs = range(1, len(accuracy) + 1)\n",
        "plt.plot(epochs, accuracy, \"bo\", label=\"Training accuracy\")\n",
        "plt.plot(epochs, val_accuracy, \"b\", label=\"Validation accuracy\")\n",
        "plt.title(\"Training and validation accuracy\")\n",
        "plt.legend()\n",
        "plt.figure()\n",
        "plt.plot(epochs, loss, \"bo\", label=\"Training loss\")\n",
        "plt.plot(epochs, val_loss, \"b\", label=\"Validation loss\")\n",
        "plt.title(\"Training and validation loss\")\n",
        "plt.legend()\n",
        "plt.show()\n",
        "# Final Values\n",
        "print(\"Final Training loss: \",history3.history['loss'][-1],\"\\nFinal Training Accuracy: \", history3.history['accuracy'][-1])\n",
        "print(\"Final Validation loss: \",history3.history['val_loss'][-1],\"\\nFinal Validation Accuracy: \", history3.history['val_accuracy'][-1])"
      ]
    },
    {
      "cell_type": "markdown",
      "source": [
        "## Evaluate Model"
      ],
      "metadata": {
        "id": "8Qg6K7pFGcma"
      }
    },
    {
      "cell_type": "code",
      "source": [
        "pvcm3.evaluate(test_dataset)\n"
      ],
      "metadata": {
        "id": "emwobOyyGex8",
        "colab": {
          "base_uri": "https://localhost:8080/"
        },
        "outputId": "a481799b-6fcf-4a30-b139-645409517ab1"
      },
      "execution_count": null,
      "outputs": [
        {
          "output_type": "stream",
          "name": "stdout",
          "text": [
            "7/7 [==============================] - 0s 13ms/step - loss: 0.2660 - accuracy: 0.9500\n"
          ]
        },
        {
          "output_type": "execute_result",
          "data": {
            "text/plain": [
              "[0.26600533723831177, 0.949999988079071]"
            ]
          },
          "metadata": {},
          "execution_count": 71
        }
      ]
    }
  ]
}